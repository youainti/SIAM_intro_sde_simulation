{
 "cells": [
  {
   "cell_type": "code",
   "execution_count": 1,
   "id": "460d0320-17e1-4baf-8a2e-8555a8359600",
   "metadata": {},
   "outputs": [
    {
     "ename": "LoadError",
     "evalue": "ArgumentError: Package Enzyme not found in current path:\n- Run `import Pkg; Pkg.add(\"Enzyme\")` to install the Enzyme package.\n",
     "output_type": "error",
     "traceback": [
      "ArgumentError: Package Enzyme not found in current path:\n- Run `import Pkg; Pkg.add(\"Enzyme\")` to install the Enzyme package.\n",
      "",
      "Stacktrace:",
      " [1] require(into::Module, mod::Symbol)",
      "   @ Base ./loading.jl:893",
      " [2] eval",
      "   @ ./boot.jl:360 [inlined]",
      " [3] include_string(mapexpr::typeof(REPL.softscope), mod::Module, code::String, filename::String)",
      "   @ Base ./loading.jl:1116"
     ]
    }
   ],
   "source": [
    "using Enzyme, Test"
   ]
  },
  {
   "cell_type": "code",
   "execution_count": 2,
   "id": "0040d95f-e205-486f-9ad4-1f62f82ebbb8",
   "metadata": {},
   "outputs": [
    {
     "data": {
      "text/plain": [
       "#1 (generic function with 1 method)"
      ]
     },
     "execution_count": 2,
     "metadata": {},
     "output_type": "execute_result"
    }
   ],
   "source": [
    "f = x-> exp(x)"
   ]
  },
  {
   "cell_type": "code",
   "execution_count": 3,
   "id": "93f03490-5ba6-4d85-a69b-9e9c041356ae",
   "metadata": {},
   "outputs": [
    {
     "data": {
      "text/plain": [
       "g (generic function with 1 method)"
      ]
     },
     "execution_count": 3,
     "metadata": {},
     "output_type": "execute_result"
    }
   ],
   "source": [
    "g(x::Float64,a::Float64) = a*exp(a * x)"
   ]
  },
  {
   "cell_type": "code",
   "execution_count": 4,
   "id": "a51bf0d4-ab3b-4cba-8e59-776a33dea216",
   "metadata": {},
   "outputs": [
    {
     "data": {
      "text/plain": [
       "20.085536923187668"
      ]
     },
     "execution_count": 4,
     "metadata": {},
     "output_type": "execute_result"
    }
   ],
   "source": [
    "f(3)"
   ]
  },
  {
   "cell_type": "code",
   "execution_count": 5,
   "id": "d87a9f0a-e137-49b0-8855-2ff0bb553b85",
   "metadata": {},
   "outputs": [
    {
     "data": {
      "text/plain": [
       "f′ (generic function with 1 method)"
      ]
     },
     "execution_count": 5,
     "metadata": {},
     "output_type": "execute_result"
    }
   ],
   "source": [
    "f′(x) = autodiff(f, Active(x))"
   ]
  },
  {
   "cell_type": "code",
   "execution_count": 6,
   "id": "d2103405-d047-406c-8b35-f3abea52c383",
   "metadata": {},
   "outputs": [
    {
     "data": {
      "text/plain": [
       "g′ (generic function with 1 method)"
      ]
     },
     "execution_count": 6,
     "metadata": {},
     "output_type": "execute_result"
    }
   ],
   "source": [
    "g′(x::Float64,a::Float64) = autodiff(g, Active(x), a)"
   ]
  },
  {
   "cell_type": "code",
   "execution_count": 7,
   "id": "89ea2206-8531-45c3-944b-b9e2a93024e9",
   "metadata": {},
   "outputs": [
    {
     "ename": "LoadError",
     "evalue": "UndefVarError: Active not defined",
     "output_type": "error",
     "traceback": [
      "UndefVarError: Active not defined",
      "",
      "Stacktrace:",
      " [1] g′(x::Float64, a::Float64)",
      "   @ Main ./In[6]:1",
      " [2] top-level scope",
      "   @ In[7]:1",
      " [3] eval",
      "   @ ./boot.jl:360 [inlined]",
      " [4] include_string(mapexpr::typeof(REPL.softscope), mod::Module, code::String, filename::String)",
      "   @ Base ./loading.jl:1116"
     ]
    }
   ],
   "source": [
    "g′(4.0,2.0)"
   ]
  },
  {
   "cell_type": "markdown",
   "id": "45e528c1-8506-4f5a-81c9-c5f8ecb73c6b",
   "metadata": {
    "tags": []
   },
   "source": [
    "given $X_0$ and $X(t)$,for a sequence of $X$s evaluated on a set of $n$ increments of width $\\Delta t$\n",
    "\n",
    "# Euler method\n",
    "\n",
    " let $X_{n+1}  = X_n + \\dot X_n \\Delta t$ \n",
    "\n",
    "# Implicit methods\n",
    "## Improved Euler method: Heun's Mthod\n",
    "let $Y_{n+1}  = Y_n + \\frac{\\dot Y_n + \\dot X_{n+1}}{2}\\Delta t$ \n",
    "where $\\dot X_{n+1}$ is the estimated at the estimated $X_{n+1}$ using the standard euler method.\n",
    "\n",
    "\n",
    "# Higher order methods\n",
    "Assuming we have a known higher order derivative, we can expand the taylor expansion we are using.\n",
    "\n",
    "## Runge-kutta\n",
    "[Wikipeda](https://en.wikipedia.org/wiki/Runge%E2%80%93Kutta_methods#The_Runge%E2%80%93Kutta_method)\n",
    "\n",
    "\n",
    "\n",
    "# How do we know what is a good method?\n",
    "## Consistency?\n",
    "\n",
    "\n",
    "## Stability\n",
    "It doesn't \n",
    "\n",
    "## Convergence\n",
    "Some sort of proof of convergence, and rates of convergence is nice."
   ]
  },
  {
   "cell_type": "code",
   "execution_count": 8,
   "id": "711c739c-be1b-4d3b-9db0-a99fe782924f",
   "metadata": {},
   "outputs": [
    {
     "data": {
      "text/plain": [
       "heuns_method (generic function with 1 method)"
      ]
     },
     "execution_count": 8,
     "metadata": {},
     "output_type": "execute_result"
    }
   ],
   "source": [
    "#implement Euler\n",
    "struct NumericalBase\n",
    "    a::Function\n",
    "    Δt::Float64\n",
    "end\n",
    "\n",
    "function euler_method(fb::NumericalBase,x0,t)\n",
    "    return x0 + fb.Δt*fb.a(x0,t)\n",
    "end\n",
    "\n",
    "function heuns_method(fb::NumericalBase,y0,t)\n",
    "    return y0 + 0.5 * ( nb.a(y0,t) + nb.a(euler_method(nb,y0,t),t)) * nb.Δt\n",
    "end"
   ]
  },
  {
   "cell_type": "code",
   "execution_count": 9,
   "id": "88bd9794-8dc7-4ab2-a5ed-c503ccc2b6c1",
   "metadata": {},
   "outputs": [
    {
     "data": {
      "text/plain": [
       "NumericalBase(g′, 0.01)"
      ]
     },
     "execution_count": 9,
     "metadata": {},
     "output_type": "execute_result"
    }
   ],
   "source": [
    "nb = NumericalBase(g′,1e-2)"
   ]
  },
  {
   "cell_type": "code",
   "execution_count": 10,
   "id": "836c43e9-164f-449a-9db4-76f0735fd327",
   "metadata": {},
   "outputs": [
    {
     "ename": "LoadError",
     "evalue": "UndefVarError: Active not defined",
     "output_type": "error",
     "traceback": [
      "UndefVarError: Active not defined",
      "",
      "Stacktrace:",
      " [1] g′(x::Float64, a::Float64)",
      "   @ Main ./In[6]:1",
      " [2] top-level scope",
      "   @ In[10]:1",
      " [3] eval",
      "   @ ./boot.jl:360 [inlined]",
      " [4] include_string(mapexpr::typeof(REPL.softscope), mod::Module, code::String, filename::String)",
      "   @ Base ./loading.jl:1116"
     ]
    }
   ],
   "source": [
    "nb.a(4.0,2.0)"
   ]
  },
  {
   "cell_type": "code",
   "execution_count": 11,
   "id": "0ecc2237-5a0e-4151-b9ca-13194914f587",
   "metadata": {},
   "outputs": [
    {
     "ename": "LoadError",
     "evalue": "UndefVarError: Active not defined",
     "output_type": "error",
     "traceback": [
      "UndefVarError: Active not defined",
      "",
      "Stacktrace:",
      " [1] g′(x::Float64, a::Float64)",
      "   @ Main ./In[6]:1",
      " [2] euler_method(fb::NumericalBase, x0::Float64, t::Float64)",
      "   @ Main ./In[8]:8",
      " [3] top-level scope",
      "   @ ./In[11]:4",
      " [4] eval",
      "   @ ./boot.jl:360 [inlined]",
      " [5] include_string(mapexpr::typeof(REPL.softscope), mod::Module, code::String, filename::String)",
      "   @ Base ./loading.jl:1116"
     ]
    }
   ],
   "source": [
    "start = 1.0\n",
    "t = 0.0\n",
    "for i in 1:10\n",
    "    start = euler_method(nb,start,t)\n",
    "    println(start,\"\\t\",t)\n",
    "    t += nb.Δt\n",
    "end"
   ]
  },
  {
   "cell_type": "code",
   "execution_count": 12,
   "id": "170512ea-fbee-48f0-b550-6e52396d645a",
   "metadata": {},
   "outputs": [
    {
     "ename": "LoadError",
     "evalue": "UndefVarError: Active not defined",
     "output_type": "error",
     "traceback": [
      "UndefVarError: Active not defined",
      "",
      "Stacktrace:",
      " [1] g′(x::Float64, a::Float64)",
      "   @ Main ./In[6]:1",
      " [2] heuns_method(fb::NumericalBase, y0::Float64, t::Float64)",
      "   @ Main ./In[8]:12",
      " [3] top-level scope",
      "   @ ./In[12]:4",
      " [4] eval",
      "   @ ./boot.jl:360 [inlined]",
      " [5] include_string(mapexpr::typeof(REPL.softscope), mod::Module, code::String, filename::String)",
      "   @ Base ./loading.jl:1116"
     ]
    }
   ],
   "source": [
    "start = 1.0\n",
    "t = 0.0\n",
    "for i in 1:10\n",
    "    start = heuns_method(nb,start,t)\n",
    "    println(start,\"\\t\",t)\n",
    "    t += nb.Δt\n",
    "end"
   ]
  },
  {
   "cell_type": "code",
   "execution_count": null,
   "id": "88dfb252-e821-4551-a23e-1349bed1c9d1",
   "metadata": {},
   "outputs": [],
   "source": []
  },
  {
   "cell_type": "code",
   "execution_count": null,
   "id": "c98c1572-cd75-43c7-85d1-ec1ca24d94b9",
   "metadata": {},
   "outputs": [],
   "source": []
  }
 ],
 "metadata": {
  "kernelspec": {
   "display_name": "Julia 1.6.2",
   "language": "julia",
   "name": "julia-1.6"
  },
  "language_info": {
   "file_extension": ".jl",
   "mimetype": "application/julia",
   "name": "julia",
   "version": "1.6.2"
  }
 },
 "nbformat": 4,
 "nbformat_minor": 5
}
