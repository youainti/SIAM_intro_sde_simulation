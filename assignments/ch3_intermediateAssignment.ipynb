{
 "cells": [
  {
   "cell_type": "markdown",
   "id": "3aff95f9-b1ee-4190-a0ec-30bd6fc2a9e5",
   "metadata": {},
   "source": [
    "# Developing an integration routine.\n",
    "\n",
    "In this notebook, I develop a struct and methods that \n",
    "describe wiener processes, their refinement, and integration with respect to said wiener process.\n",
    "\n",
    "I then use that to integrate a single stochastic path."
   ]
  },
  {
   "cell_type": "code",
   "execution_count": 1,
   "id": "e953df11-3580-49b8-9df9-5f3dd6ba43e1",
   "metadata": {},
   "outputs": [],
   "source": [
    "using Random, Plots\n",
    "import Statistics\n",
    "using LinearAlgebra"
   ]
  },
  {
   "cell_type": "code",
   "execution_count": 2,
   "id": "2e4db4f9-8038-4727-9e6e-1257f14d1360",
   "metadata": {},
   "outputs": [
    {
     "data": {
      "text/plain": [
       "4.0e-5"
      ]
     },
     "execution_count": 2,
     "metadata": {},
     "output_type": "execute_result"
    }
   ],
   "source": [
    "T = 1.0\n",
    "N = 25000\n",
    "Δt = T/N"
   ]
  },
  {
   "cell_type": "code",
   "execution_count": 3,
   "id": "3fb86070-8c79-4eb0-a920-5cb39dc569e3",
   "metadata": {},
   "outputs": [],
   "source": [
    "struct WienerProcess\n",
    "    #the two key things to know are \n",
    "    path::Vector{Float64}\n",
    "    Δt::Float64\n",
    "   \n",
    "    #This creates a wiener process using a given path, while \n",
    "    #enforcing the invariant that a WienerProcess starts at zero\n",
    "    WienerProcess(p,d) = p[1] != 0.0 ? new(vcat(0.0,p),d) : new(p,d)\n",
    "end"
   ]
  },
  {
   "cell_type": "code",
   "execution_count": 4,
   "id": "eef17cfd-f0a2-4722-a11b-4419a87d05d3",
   "metadata": {},
   "outputs": [
    {
     "data": {
      "text/plain": [
       "spread_walk (generic function with 1 method)"
      ]
     },
     "execution_count": 4,
     "metadata": {},
     "output_type": "execute_result"
    }
   ],
   "source": [
    "#Adding methods (not as member functions though)\n",
    "function get_steps(p::WienerProcess)\n",
    "    #This pulls the steps out of the WienerProcess\n",
    "    len = length(p.path)\n",
    "    if p.path[1] != 0.0\n",
    "        error(\"test\")\n",
    "    end \n",
    "    steps = p.path[2:len] - p.path[1:len-1]\n",
    "end\n",
    "\n",
    "function refine(p::WienerProcess)\n",
    "    #This refines the resolution of the given WienerProcess, and returns another in it's stead\n",
    "    len = length(p.path)\n",
    "    arr = zeros(2*len-1)\n",
    "    \n",
    "    for ind in 1:len-1\n",
    "        arr[2*ind-1] = p.path[ind]\n",
    "        arr[2*ind] =  (0.5 * (p.path[ind] + p.path[ind+1]) .+ (((√p.Δt)/2)*randn(1)))[1]\n",
    "    end\n",
    "    arr[2*len-1] = p.path[len]\n",
    "    \n",
    "    return WienerProcess(arr, p.Δt/2)\n",
    "end\n",
    "\n",
    "function spread_walk(walk)\n",
    "    len = length(walk)\n",
    "    arr = zeros(2*len-1)\n",
    "    \n",
    "    for ind in 1:len-1\n",
    "        arr[2*ind-1] = walk[ind]\n",
    "        arr[2*ind] =  (0.5 * (walk[ind] + walk[ind+1]) ) \n",
    "    end\n",
    "    arr[2*len-1] = walk[len]\n",
    "    \n",
    "    return arr\n",
    "end"
   ]
  },
  {
   "cell_type": "code",
   "execution_count": 5,
   "id": "e7454426-e9b5-4fa3-81ff-abc93a941a96",
   "metadata": {},
   "outputs": [
    {
     "data": {
      "text/plain": [
       "WienerProcess"
      ]
     },
     "execution_count": 5,
     "metadata": {},
     "output_type": "execute_result"
    }
   ],
   "source": [
    "#Generators\n",
    "function WienerProcess(size::Int, domain_length::Float64)\n",
    "    #This function builds a wiener process out of randomly drawn steps\n",
    "    #it uses the domain length to calculate Δt\n",
    "    \n",
    "    #TODO: implement checking for begining with zero\n",
    "    return WienerProcess(cumsum(randn(size)),domain_length/size)\n",
    "end"
   ]
  },
  {
   "cell_type": "code",
   "execution_count": 6,
   "id": "1d555f23-8170-4542-bfd9-aa2de2242141",
   "metadata": {},
   "outputs": [
    {
     "data": {
      "text/plain": [
       "integrate (generic function with 1 method)"
      ]
     },
     "execution_count": 6,
     "metadata": {},
     "output_type": "execute_result"
    }
   ],
   "source": [
    "function integrate(f::Function, wp::WienerProcess)\n",
    "    #This function integrates across the time domain.\n",
    "    \n",
    "    sum = 0\n",
    "    steps = get_steps(wp)\n",
    "    \n",
    "    for i in 1:length(wp.path)-1\n",
    "        sum += f(wp.path[i]) * (steps[i]) \n",
    "    end\n",
    "    \n",
    "    return sum\n",
    "end"
   ]
  },
  {
   "cell_type": "code",
   "execution_count": 55,
   "id": "861a0917-1b7d-4576-8707-2666faab4ced",
   "metadata": {},
   "outputs": [
    {
     "data": {
      "text/plain": [
       "WienerProcess([0.0, 1.0969615061870517, 1.6263880871612335, 2.6531931022665294, 1.799795416658844, 2.915852202744025, 3.3135345174448307, 5.301426443331192, 5.271376090772383, 4.877675095770677  …  -113.35483208125206, -113.85394304976751, -113.84306318168005, -114.72031523889557, -116.321479444718, -116.74441520338651, -117.62147163351482, -118.46132702860086, -118.63593108769986, -118.30538192070581], 4.0e-5)"
      ]
     },
     "execution_count": 55,
     "metadata": {},
     "output_type": "execute_result"
    }
   ],
   "source": [
    "#Generate a WienerProcess\n",
    "tp = WienerProcess(N,T)"
   ]
  },
  {
   "cell_type": "code",
   "execution_count": 56,
   "id": "0cd08b4f-00ce-4276-a913-f5b4ab459b27",
   "metadata": {},
   "outputs": [
    {
     "data": {
      "text/plain": [
       "unit (generic function with 1 method)"
      ]
     },
     "execution_count": 56,
     "metadata": {},
     "output_type": "execute_result"
    }
   ],
   "source": [
    "#test functions\n",
    "slf(x) = x\n",
    "unit(x) = 1"
   ]
  },
  {
   "cell_type": "markdown",
   "id": "7d0fe79c-1774-4fae-84fd-ba875a9c236f",
   "metadata": {},
   "source": [
    "Integrate $f(W_t) = 1$"
   ]
  },
  {
   "cell_type": "code",
   "execution_count": 57,
   "id": "612b4411-a980-4c54-9e5e-836babb5f14d",
   "metadata": {},
   "outputs": [
    {
     "data": {
      "text/plain": [
       "(-118.30538192070581, -118.30538192070581)"
      ]
     },
     "execution_count": 57,
     "metadata": {},
     "output_type": "execute_result"
    }
   ],
   "source": [
    "integrate(unit,tp),tp.path[length(tp.path)]"
   ]
  },
  {
   "cell_type": "code",
   "execution_count": 58,
   "id": "2346d4bc-0376-434e-a599-6b65437f6af1",
   "metadata": {},
   "outputs": [
    {
     "data": {
      "text/plain": [
       "(-118.30538192070581, -118.30538192070581)"
      ]
     },
     "execution_count": 58,
     "metadata": {},
     "output_type": "execute_result"
    }
   ],
   "source": [
    "rtp = refine(tp)\n",
    "integrate(unit,rtp),rtp.path[length(rtp.path)]"
   ]
  },
  {
   "cell_type": "markdown",
   "id": "8845d8f7-1ca6-4513-875f-aa201ac78d3b",
   "metadata": {},
   "source": [
    "# Answering the question given\n",
    "integrate $f(W_t) = W_t$, refining the partition as you go."
   ]
  },
  {
   "cell_type": "code",
   "execution_count": 63,
   "id": "5fee95de-6f62-42e2-b53c-79a043df10ed",
   "metadata": {},
   "outputs": [
    {
     "data": {
      "text/plain": [
       "time_refinements (generic function with 2 methods)"
      ]
     },
     "execution_count": 63,
     "metadata": {},
     "output_type": "execute_result"
    }
   ],
   "source": [
    "function time_refinements(tp, itt = 10)\n",
    "    iterated_test = tp\n",
    "    \n",
    "    refinements = []\n",
    "    symbolic_integrals = []\n",
    "    \n",
    "    for iteration in 1:itt\n",
    "        iterated_test = refine(iterated_test)\n",
    "        append!(refinements, iterated_test)\n",
    "\n",
    "        integral = @time integrate(slf,iterated_test)\n",
    "\n",
    "        path_length = length(iterated_test.path)\n",
    "        las_value = iterated_test.path[path_length]\n",
    "        symbolic_integral = 0.5 * (las_value^2 - T )\n",
    "\n",
    "        #Get the values needed of the \n",
    "        append!(symbolic_integrals, symbolic_integral)\n",
    "        \n",
    "        println(\"iteration \",iteration, \". Number of discrete points \", path_length)\n",
    "        println(\"\\t\",integral, \" \" , symbolic_integral)\n",
    "        println(\"\\tAbsolute Error: \", abs(integral - symbolic_integral))\n",
    "        println(\"\\tSquared Error: \",(integral - symbolic_integral)^2)\n",
    "        println(\"\\tPercentage Error: \",(integral - symbolic_integral)/symbolic_integral, \"\\n\")\n",
    "    end\n",
    "    return refinements, symbolic_integrals\n",
    "end"
   ]
  },
  {
   "cell_type": "code",
   "execution_count": 64,
   "id": "bd71eefa-1709-4d85-89a9-dd17b687516d",
   "metadata": {},
   "outputs": [
    {
     "ename": "LoadError",
     "evalue": "MethodError: no method matching length(::WienerProcess)\nClosest candidates are:\n  length(!Matched::Plots.GridLayout) at /home/will2/.julia/packages/Plots/vsE7b/src/layouts.jl:261\n  length(!Matched::JSON.Parser.MemoryParserState) at /home/will2/.julia/packages/JSON/3rsiS/src/Parser.jl:28\n  length(!Matched::Base.EnvDict) at env.jl:132\n  ...",
     "output_type": "error",
     "traceback": [
      "MethodError: no method matching length(::WienerProcess)\nClosest candidates are:\n  length(!Matched::Plots.GridLayout) at /home/will2/.julia/packages/Plots/vsE7b/src/layouts.jl:261\n  length(!Matched::JSON.Parser.MemoryParserState) at /home/will2/.julia/packages/JSON/3rsiS/src/Parser.jl:28\n  length(!Matched::Base.EnvDict) at env.jl:132\n  ...",
      "",
      "Stacktrace:",
      " [1] _append!(::Array{Any,1}, ::Base.HasLength, ::WienerProcess) at ./array.jl:987",
      " [2] append!(::Array{Any,1}, ::WienerProcess) at ./array.jl:981",
      " [3] time_refinements(::WienerProcess, ::Int64) at ./In[63]:9",
      " [4] #33 at ./timing.jl:174 [inlined]",
      " [5] (::var\"#33#34\")(::Int64) at ./none:0",
      " [6] iterate at ./generator.jl:47 [inlined]",
      " [7] collect(::Base.Generator{UnitRange{Int64},var\"#33#34\"}) at ./array.jl:686",
      " [8] top-level scope at In[64]:1",
      " [9] include_string(::Function, ::Module, ::String, ::String) at ./loading.jl:1091"
     ]
    }
   ],
   "source": [
    "evaluated_values = [@time time_refinements(tp, 10) for x=1:4]"
   ]
  },
  {
   "cell_type": "code",
   "execution_count": 46,
   "id": "d2d59ab3-aace-4097-99f2-6d1690044c22",
   "metadata": {},
   "outputs": [
    {
     "data": {
      "image/svg+xml": [
       "<?xml version=\"1.0\" encoding=\"utf-8\"?>\n",
       "<svg xmlns=\"http://www.w3.org/2000/svg\" xmlns:xlink=\"http://www.w3.org/1999/xlink\" width=\"600\" height=\"400\" viewBox=\"0 0 2400 1600\">\n",
       "<defs>\n",
       "  <clipPath id=\"clip610\">\n",
       "    <rect x=\"0\" y=\"0\" width=\"2400\" height=\"1600\"/>\n",
       "  </clipPath>\n",
       "</defs>\n",
       "<path clip-path=\"url(#clip610)\" d=\"\n",
       "M0 1600 L2400 1600 L2400 0 L0 0  Z\n",
       "  \" fill=\"#ffffff\" fill-rule=\"evenodd\" fill-opacity=\"1\"/>\n",
       "<defs>\n",
       "  <clipPath id=\"clip611\">\n",
       "    <rect x=\"480\" y=\"0\" width=\"1681\" height=\"1600\"/>\n",
       "  </clipPath>\n",
       "</defs>\n",
       "<path clip-path=\"url(#clip610)\" d=\"\n",
       "M256.486 1410.9 L2352.76 1410.9 L2352.76 47.2441 L256.486 47.2441  Z\n",
       "  \" fill=\"#ffffff\" fill-rule=\"evenodd\" fill-opacity=\"1\"/>\n",
       "<defs>\n",
       "  <clipPath id=\"clip612\">\n",
       "    <rect x=\"256\" y=\"47\" width=\"2097\" height=\"1365\"/>\n",
       "  </clipPath>\n",
       "</defs>\n",
       "<polyline clip-path=\"url(#clip612)\" style=\"stroke:#000000; stroke-width:2; stroke-opacity:0.1; fill:none\" points=\"\n",
       "  311.945,1410.9 311.945,47.2441 \n",
       "  \"/>\n",
       "<polyline clip-path=\"url(#clip612)\" style=\"stroke:#000000; stroke-width:2; stroke-opacity:0.1; fill:none\" points=\"\n",
       "  807.315,1410.9 807.315,47.2441 \n",
       "  \"/>\n",
       "<polyline clip-path=\"url(#clip612)\" style=\"stroke:#000000; stroke-width:2; stroke-opacity:0.1; fill:none\" points=\"\n",
       "  1302.69,1410.9 1302.69,47.2441 \n",
       "  \"/>\n",
       "<polyline clip-path=\"url(#clip612)\" style=\"stroke:#000000; stroke-width:2; stroke-opacity:0.1; fill:none\" points=\"\n",
       "  1798.06,1410.9 1798.06,47.2441 \n",
       "  \"/>\n",
       "<polyline clip-path=\"url(#clip612)\" style=\"stroke:#000000; stroke-width:2; stroke-opacity:0.1; fill:none\" points=\"\n",
       "  2293.43,1410.9 2293.43,47.2441 \n",
       "  \"/>\n",
       "<polyline clip-path=\"url(#clip610)\" style=\"stroke:#000000; stroke-width:4; stroke-opacity:1; fill:none\" points=\"\n",
       "  256.486,1410.9 2352.76,1410.9 \n",
       "  \"/>\n",
       "<polyline clip-path=\"url(#clip610)\" style=\"stroke:#000000; stroke-width:4; stroke-opacity:1; fill:none\" points=\"\n",
       "  311.945,1410.9 311.945,1394.53 \n",
       "  \"/>\n",
       "<polyline clip-path=\"url(#clip610)\" style=\"stroke:#000000; stroke-width:4; stroke-opacity:1; fill:none\" points=\"\n",
       "  807.315,1410.9 807.315,1394.53 \n",
       "  \"/>\n",
       "<polyline clip-path=\"url(#clip610)\" style=\"stroke:#000000; stroke-width:4; stroke-opacity:1; fill:none\" points=\"\n",
       "  1302.69,1410.9 1302.69,1394.53 \n",
       "  \"/>\n",
       "<polyline clip-path=\"url(#clip610)\" style=\"stroke:#000000; stroke-width:4; stroke-opacity:1; fill:none\" points=\"\n",
       "  1798.06,1410.9 1798.06,1394.53 \n",
       "  \"/>\n",
       "<polyline clip-path=\"url(#clip610)\" style=\"stroke:#000000; stroke-width:4; stroke-opacity:1; fill:none\" points=\"\n",
       "  2293.43,1410.9 2293.43,1394.53 \n",
       "  \"/>\n",
       "<path clip-path=\"url(#clip610)\" d=\"M 0 0 M311.945 1440.09 Q308.334 1440.09 306.505 1443.65 Q304.699 1447.19 304.699 1454.32 Q304.699 1461.43 306.505 1464.99 Q308.334 1468.54 311.945 1468.54 Q315.579 1468.54 317.385 1464.99 Q319.213 1461.43 319.213 1454.32 Q319.213 1447.19 317.385 1443.65 Q315.579 1440.09 311.945 1440.09 M311.945 1436.38 Q317.755 1436.38 320.81 1440.99 Q323.889 1445.57 323.889 1454.32 Q323.889 1463.05 320.81 1467.66 Q317.755 1472.24 311.945 1472.24 Q306.135 1472.24 303.056 1467.66 Q300 1463.05 300 1454.32 Q300 1445.57 303.056 1440.99 Q306.135 1436.38 311.945 1436.38 Z\" fill=\"#000000\" fill-rule=\"evenodd\" fill-opacity=\"1\" /><path clip-path=\"url(#clip610)\" d=\"M 0 0 M712.993 1458.54 L731.349 1458.54 L731.349 1462.48 L717.275 1462.48 L717.275 1470.95 Q718.294 1470.6 719.312 1470.44 Q720.331 1470.26 721.349 1470.26 Q727.136 1470.26 730.516 1473.43 Q733.896 1476.6 733.896 1482.02 Q733.896 1487.59 730.423 1490.7 Q726.951 1493.78 720.632 1493.78 Q718.456 1493.78 716.187 1493.4 Q713.942 1493.03 711.535 1492.29 L711.535 1487.59 Q713.618 1488.73 715.84 1489.28 Q718.062 1489.84 720.539 1489.84 Q724.544 1489.84 726.882 1487.73 Q729.22 1485.63 729.22 1482.02 Q729.22 1478.4 726.882 1476.3 Q724.544 1474.19 720.539 1474.19 Q718.664 1474.19 716.789 1474.61 Q714.937 1475.03 712.993 1475.9 L712.993 1458.54 Z\" fill=\"#000000\" fill-rule=\"evenodd\" fill-opacity=\"1\" /><path clip-path=\"url(#clip610)\" d=\"M 0 0 M738.965 1487.22 L743.849 1487.22 L743.849 1493.1 L738.965 1493.1 L738.965 1487.22 Z\" fill=\"#000000\" fill-rule=\"evenodd\" fill-opacity=\"1\" /><path clip-path=\"url(#clip610)\" d=\"M 0 0 M758.919 1461.62 Q755.308 1461.62 753.479 1465.19 Q751.673 1468.73 751.673 1475.86 Q751.673 1482.97 753.479 1486.53 Q755.308 1490.07 758.919 1490.07 Q762.553 1490.07 764.358 1486.53 Q766.187 1482.97 766.187 1475.86 Q766.187 1468.73 764.358 1465.19 Q762.553 1461.62 758.919 1461.62 M758.919 1457.92 Q764.729 1457.92 767.784 1462.53 Q770.863 1467.11 770.863 1475.86 Q770.863 1484.59 767.784 1489.19 Q764.729 1493.78 758.919 1493.78 Q753.109 1493.78 750.03 1489.19 Q746.974 1484.59 746.974 1475.86 Q746.974 1467.11 750.03 1462.53 Q753.109 1457.92 758.919 1457.92 Z\" fill=\"#000000\" fill-rule=\"evenodd\" fill-opacity=\"1\" /><path clip-path=\"url(#clip610)\" d=\"M 0 0 M804.104 1467.64 L793.525 1478.27 L804.104 1488.84 L801.349 1491.65 L790.724 1481.02 L780.099 1491.65 L777.368 1488.84 L787.923 1478.27 L777.368 1467.64 L780.099 1464.84 L790.724 1475.47 L801.349 1464.84 L804.104 1467.64 Z\" fill=\"#000000\" fill-rule=\"evenodd\" fill-opacity=\"1\" /><path clip-path=\"url(#clip610)\" d=\"M 0 0 M809.983 1489.17 L817.622 1489.17 L817.622 1462.8 L809.312 1464.47 L809.312 1460.21 L817.576 1458.54 L822.252 1458.54 L822.252 1489.17 L829.891 1489.17 L829.891 1493.1 L809.983 1493.1 L809.983 1489.17 Z\" fill=\"#000000\" fill-rule=\"evenodd\" fill-opacity=\"1\" /><path clip-path=\"url(#clip610)\" d=\"M 0 0 M844.96 1461.62 Q841.349 1461.62 839.52 1465.19 Q837.715 1468.73 837.715 1475.86 Q837.715 1482.97 839.52 1486.53 Q841.349 1490.07 844.96 1490.07 Q848.594 1490.07 850.4 1486.53 Q852.228 1482.97 852.228 1475.86 Q852.228 1468.73 850.4 1465.19 Q848.594 1461.62 844.96 1461.62 M844.96 1457.92 Q850.77 1457.92 853.826 1462.53 Q856.904 1467.11 856.904 1475.86 Q856.904 1484.59 853.826 1489.19 Q850.77 1493.78 844.96 1493.78 Q839.15 1493.78 836.071 1489.19 Q833.016 1484.59 833.016 1475.86 Q833.016 1467.11 836.071 1462.53 Q839.15 1457.92 844.96 1457.92 Z\" fill=\"#000000\" fill-rule=\"evenodd\" fill-opacity=\"1\" /><path clip-path=\"url(#clip610)\" d=\"M 0 0 M856.904 1452.02 L881.016 1452.02 L881.016 1455.22 L856.904 1455.22 L856.904 1452.02 Z\" fill=\"#000000\" fill-rule=\"evenodd\" fill-opacity=\"1\" /><path clip-path=\"url(#clip610)\" d=\"M 0 0 M893.73 1450.14 Q891.172 1450.14 889.667 1451.89 Q888.182 1453.64 888.182 1456.68 Q888.182 1459.71 889.667 1461.48 Q891.172 1463.23 893.73 1463.23 Q896.288 1463.23 897.774 1461.48 Q899.278 1459.71 899.278 1456.68 Q899.278 1453.64 897.774 1451.89 Q896.288 1450.14 893.73 1450.14 M901.272 1438.23 L901.272 1441.69 Q899.842 1441.02 898.375 1440.66 Q896.927 1440.3 895.498 1440.3 Q891.736 1440.3 889.743 1442.84 Q887.768 1445.38 887.486 1450.52 Q888.595 1448.88 890.269 1448.01 Q891.943 1447.13 893.956 1447.13 Q898.187 1447.13 900.632 1449.71 Q903.096 1452.26 903.096 1456.68 Q903.096 1461.01 900.538 1463.62 Q897.98 1466.24 893.73 1466.24 Q888.859 1466.24 886.282 1462.51 Q883.705 1458.77 883.705 1451.68 Q883.705 1445.02 886.865 1441.07 Q890.025 1437.11 895.347 1437.11 Q896.777 1437.11 898.225 1437.39 Q899.692 1437.67 901.272 1438.23 Z\" fill=\"#000000\" fill-rule=\"evenodd\" fill-opacity=\"1\" /><path clip-path=\"url(#clip610)\" d=\"M 0 0 M1208.94 1489.17 L1216.58 1489.17 L1216.58 1462.8 L1208.27 1464.47 L1208.27 1460.21 L1216.53 1458.54 L1221.21 1458.54 L1221.21 1489.17 L1228.85 1489.17 L1228.85 1493.1 L1208.94 1493.1 L1208.94 1489.17 Z\" fill=\"#000000\" fill-rule=\"evenodd\" fill-opacity=\"1\" /><path clip-path=\"url(#clip610)\" d=\"M 0 0 M1233.91 1487.22 L1238.8 1487.22 L1238.8 1493.1 L1233.91 1493.1 L1233.91 1487.22 Z\" fill=\"#000000\" fill-rule=\"evenodd\" fill-opacity=\"1\" /><path clip-path=\"url(#clip610)\" d=\"M 0 0 M1253.87 1461.62 Q1250.26 1461.62 1248.43 1465.19 Q1246.62 1468.73 1246.62 1475.86 Q1246.62 1482.97 1248.43 1486.53 Q1250.26 1490.07 1253.87 1490.07 Q1257.5 1490.07 1259.31 1486.53 Q1261.14 1482.97 1261.14 1475.86 Q1261.14 1468.73 1259.31 1465.19 Q1257.5 1461.62 1253.87 1461.62 M1253.87 1457.92 Q1259.68 1457.92 1262.73 1462.53 Q1265.81 1467.11 1265.81 1475.86 Q1265.81 1484.59 1262.73 1489.19 Q1259.68 1493.78 1253.87 1493.78 Q1248.06 1493.78 1244.98 1489.19 Q1241.92 1484.59 1241.92 1475.86 Q1241.92 1467.11 1244.98 1462.53 Q1248.06 1457.92 1253.87 1457.92 Z\" fill=\"#000000\" fill-rule=\"evenodd\" fill-opacity=\"1\" /><path clip-path=\"url(#clip610)\" d=\"M 0 0 M1299.05 1467.64 L1288.47 1478.27 L1299.05 1488.84 L1296.3 1491.65 L1285.67 1481.02 L1275.05 1491.65 L1272.32 1488.84 L1282.87 1478.27 L1272.32 1467.64 L1275.05 1464.84 L1285.67 1475.47 L1296.3 1464.84 L1299.05 1467.64 Z\" fill=\"#000000\" fill-rule=\"evenodd\" fill-opacity=\"1\" /><path clip-path=\"url(#clip610)\" d=\"M 0 0 M1304.93 1489.17 L1312.57 1489.17 L1312.57 1462.8 L1304.26 1464.47 L1304.26 1460.21 L1312.53 1458.54 L1317.2 1458.54 L1317.2 1489.17 L1324.84 1489.17 L1324.84 1493.1 L1304.93 1493.1 L1304.93 1489.17 Z\" fill=\"#000000\" fill-rule=\"evenodd\" fill-opacity=\"1\" /><path clip-path=\"url(#clip610)\" d=\"M 0 0 M1339.91 1461.62 Q1336.3 1461.62 1334.47 1465.19 Q1332.66 1468.73 1332.66 1475.86 Q1332.66 1482.97 1334.47 1486.53 Q1336.3 1490.07 1339.91 1490.07 Q1343.54 1490.07 1345.35 1486.53 Q1347.18 1482.97 1347.18 1475.86 Q1347.18 1468.73 1345.35 1465.19 Q1343.54 1461.62 1339.91 1461.62 M1339.91 1457.92 Q1345.72 1457.92 1348.78 1462.53 Q1351.85 1467.11 1351.85 1475.86 Q1351.85 1484.59 1348.78 1489.19 Q1345.72 1493.78 1339.91 1493.78 Q1334.1 1493.78 1331.02 1489.19 Q1327.97 1484.59 1327.97 1475.86 Q1327.97 1467.11 1331.02 1462.53 Q1334.1 1457.92 1339.91 1457.92 Z\" fill=\"#000000\" fill-rule=\"evenodd\" fill-opacity=\"1\" /><path clip-path=\"url(#clip610)\" d=\"M 0 0 M1351.85 1452.02 L1375.97 1452.02 L1375.97 1455.22 L1351.85 1455.22 L1351.85 1452.02 Z\" fill=\"#000000\" fill-rule=\"evenodd\" fill-opacity=\"1\" /><path clip-path=\"url(#clip610)\" d=\"M 0 0 M1380.12 1437.61 L1395.04 1437.61 L1395.04 1440.81 L1383.6 1440.81 L1383.6 1447.69 Q1384.43 1447.41 1385.26 1447.28 Q1386.08 1447.13 1386.91 1447.13 Q1391.61 1447.13 1394.36 1449.71 Q1397.11 1452.28 1397.11 1456.68 Q1397.11 1461.22 1394.28 1463.74 Q1391.46 1466.24 1386.33 1466.24 Q1384.56 1466.24 1382.72 1465.94 Q1380.89 1465.64 1378.94 1465.04 L1378.94 1461.22 Q1380.63 1462.14 1382.44 1462.59 Q1384.24 1463.04 1386.25 1463.04 Q1389.51 1463.04 1391.41 1461.33 Q1393.31 1459.62 1393.31 1456.68 Q1393.31 1453.75 1391.41 1452.04 Q1389.51 1450.33 1386.25 1450.33 Q1384.73 1450.33 1383.21 1450.67 Q1381.7 1451 1380.12 1451.72 L1380.12 1437.61 Z\" fill=\"#000000\" fill-rule=\"evenodd\" fill-opacity=\"1\" /><path clip-path=\"url(#clip610)\" d=\"M 0 0 M1704.81 1489.17 L1712.45 1489.17 L1712.45 1462.8 L1704.14 1464.47 L1704.14 1460.21 L1712.4 1458.54 L1717.07 1458.54 L1717.07 1489.17 L1724.71 1489.17 L1724.71 1493.1 L1704.81 1493.1 L1704.81 1489.17 Z\" fill=\"#000000\" fill-rule=\"evenodd\" fill-opacity=\"1\" /><path clip-path=\"url(#clip610)\" d=\"M 0 0 M1729.78 1487.22 L1734.67 1487.22 L1734.67 1493.1 L1729.78 1493.1 L1729.78 1487.22 Z\" fill=\"#000000\" fill-rule=\"evenodd\" fill-opacity=\"1\" /><path clip-path=\"url(#clip610)\" d=\"M 0 0 M1739.78 1458.54 L1758.14 1458.54 L1758.14 1462.48 L1744.07 1462.48 L1744.07 1470.95 Q1745.08 1470.6 1746.1 1470.44 Q1747.12 1470.26 1748.14 1470.26 Q1753.93 1470.26 1757.31 1473.43 Q1760.69 1476.6 1760.69 1482.02 Q1760.69 1487.59 1757.21 1490.7 Q1753.74 1493.78 1747.42 1493.78 Q1745.25 1493.78 1742.98 1493.4 Q1740.73 1493.03 1738.32 1492.29 L1738.32 1487.59 Q1740.41 1488.73 1742.63 1489.28 Q1744.85 1489.84 1747.33 1489.84 Q1751.33 1489.84 1753.67 1487.73 Q1756.01 1485.63 1756.01 1482.02 Q1756.01 1478.4 1753.67 1476.3 Q1751.33 1474.19 1747.33 1474.19 Q1745.45 1474.19 1743.58 1474.61 Q1741.73 1475.03 1739.78 1475.9 L1739.78 1458.54 Z\" fill=\"#000000\" fill-rule=\"evenodd\" fill-opacity=\"1\" /><path clip-path=\"url(#clip610)\" d=\"M 0 0 M1793.93 1467.64 L1783.35 1478.27 L1793.93 1488.84 L1791.17 1491.65 L1780.55 1481.02 L1769.92 1491.65 L1767.19 1488.84 L1777.75 1478.27 L1767.19 1467.64 L1769.92 1464.84 L1780.55 1475.47 L1791.17 1464.84 L1793.93 1467.64 Z\" fill=\"#000000\" fill-rule=\"evenodd\" fill-opacity=\"1\" /><path clip-path=\"url(#clip610)\" d=\"M 0 0 M1799.81 1489.17 L1807.44 1489.17 L1807.44 1462.8 L1799.13 1464.47 L1799.13 1460.21 L1807.4 1458.54 L1812.07 1458.54 L1812.07 1489.17 L1819.71 1489.17 L1819.71 1493.1 L1799.81 1493.1 L1799.81 1489.17 Z\" fill=\"#000000\" fill-rule=\"evenodd\" fill-opacity=\"1\" /><path clip-path=\"url(#clip610)\" d=\"M 0 0 M1834.78 1461.62 Q1831.17 1461.62 1829.34 1465.19 Q1827.54 1468.73 1827.54 1475.86 Q1827.54 1482.97 1829.34 1486.53 Q1831.17 1490.07 1834.78 1490.07 Q1838.42 1490.07 1840.22 1486.53 Q1842.05 1482.97 1842.05 1475.86 Q1842.05 1468.73 1840.22 1465.19 Q1838.42 1461.62 1834.78 1461.62 M1834.78 1457.92 Q1840.59 1457.92 1843.65 1462.53 Q1846.73 1467.11 1846.73 1475.86 Q1846.73 1484.59 1843.65 1489.19 Q1840.59 1493.78 1834.78 1493.78 Q1828.97 1493.78 1825.89 1489.19 Q1822.84 1484.59 1822.84 1475.86 Q1822.84 1467.11 1825.89 1462.53 Q1828.97 1457.92 1834.78 1457.92 Z\" fill=\"#000000\" fill-rule=\"evenodd\" fill-opacity=\"1\" /><path clip-path=\"url(#clip610)\" d=\"M 0 0 M1846.73 1452.02 L1870.84 1452.02 L1870.84 1455.22 L1846.73 1455.22 L1846.73 1452.02 Z\" fill=\"#000000\" fill-rule=\"evenodd\" fill-opacity=\"1\" /><path clip-path=\"url(#clip610)\" d=\"M 0 0 M1875 1437.61 L1889.91 1437.61 L1889.91 1440.81 L1878.47 1440.81 L1878.47 1447.69 Q1879.3 1447.41 1880.13 1447.28 Q1880.96 1447.13 1881.78 1447.13 Q1886.49 1447.13 1889.23 1449.71 Q1891.98 1452.28 1891.98 1456.68 Q1891.98 1461.22 1889.16 1463.74 Q1886.34 1466.24 1881.2 1466.24 Q1879.43 1466.24 1877.59 1465.94 Q1875.77 1465.64 1873.81 1465.04 L1873.81 1461.22 Q1875.5 1462.14 1877.31 1462.59 Q1879.11 1463.04 1881.13 1463.04 Q1884.38 1463.04 1886.28 1461.33 Q1888.18 1459.62 1888.18 1456.68 Q1888.18 1453.75 1886.28 1452.04 Q1884.38 1450.33 1881.13 1450.33 Q1879.6 1450.33 1878.08 1450.67 Q1876.57 1451 1875 1451.72 L1875 1437.61 Z\" fill=\"#000000\" fill-rule=\"evenodd\" fill-opacity=\"1\" /><path clip-path=\"url(#clip610)\" d=\"M 0 0 M2203.95 1489.17 L2220.27 1489.17 L2220.27 1493.1 L2198.33 1493.1 L2198.33 1489.17 Q2200.99 1486.41 2205.57 1481.78 Q2210.18 1477.13 2211.36 1475.79 Q2213.6 1473.27 2214.48 1471.53 Q2215.39 1469.77 2215.39 1468.08 Q2215.39 1465.33 2213.44 1463.59 Q2211.52 1461.85 2208.42 1461.85 Q2206.22 1461.85 2203.77 1462.62 Q2201.33 1463.38 2198.56 1464.93 L2198.56 1460.21 Q2201.38 1459.08 2203.83 1458.5 Q2206.29 1457.92 2208.33 1457.92 Q2213.7 1457.92 2216.89 1460.6 Q2220.08 1463.29 2220.08 1467.78 Q2220.08 1469.91 2219.27 1471.83 Q2218.49 1473.73 2216.38 1476.32 Q2215.8 1476.99 2212.7 1480.21 Q2209.6 1483.4 2203.95 1489.17 Z\" fill=\"#000000\" fill-rule=\"evenodd\" fill-opacity=\"1\" /><path clip-path=\"url(#clip610)\" d=\"M 0 0 M2225.34 1487.22 L2230.22 1487.22 L2230.22 1493.1 L2225.34 1493.1 L2225.34 1487.22 Z\" fill=\"#000000\" fill-rule=\"evenodd\" fill-opacity=\"1\" /><path clip-path=\"url(#clip610)\" d=\"M 0 0 M2245.29 1461.62 Q2241.68 1461.62 2239.85 1465.19 Q2238.05 1468.73 2238.05 1475.86 Q2238.05 1482.97 2239.85 1486.53 Q2241.68 1490.07 2245.29 1490.07 Q2248.93 1490.07 2250.73 1486.53 Q2252.56 1482.97 2252.56 1475.86 Q2252.56 1468.73 2250.73 1465.19 Q2248.93 1461.62 2245.29 1461.62 M2245.29 1457.92 Q2251.1 1457.92 2254.16 1462.53 Q2257.24 1467.11 2257.24 1475.86 Q2257.24 1484.59 2254.16 1489.19 Q2251.1 1493.78 2245.29 1493.78 Q2239.48 1493.78 2236.4 1489.19 Q2233.35 1484.59 2233.35 1475.86 Q2233.35 1467.11 2236.4 1462.53 Q2239.48 1457.92 2245.29 1457.92 Z\" fill=\"#000000\" fill-rule=\"evenodd\" fill-opacity=\"1\" /><path clip-path=\"url(#clip610)\" d=\"M 0 0 M2290.48 1467.64 L2279.9 1478.27 L2290.48 1488.84 L2287.72 1491.65 L2277.1 1481.02 L2266.47 1491.65 L2263.74 1488.84 L2274.3 1478.27 L2263.74 1467.64 L2266.47 1464.84 L2277.1 1475.47 L2287.72 1464.84 L2290.48 1467.64 Z\" fill=\"#000000\" fill-rule=\"evenodd\" fill-opacity=\"1\" /><path clip-path=\"url(#clip610)\" d=\"M 0 0 M2296.36 1489.17 L2304 1489.17 L2304 1462.8 L2295.69 1464.47 L2295.69 1460.21 L2303.95 1458.54 L2308.63 1458.54 L2308.63 1489.17 L2316.26 1489.17 L2316.26 1493.1 L2296.36 1493.1 L2296.36 1489.17 Z\" fill=\"#000000\" fill-rule=\"evenodd\" fill-opacity=\"1\" /><path clip-path=\"url(#clip610)\" d=\"M 0 0 M2331.33 1461.62 Q2327.72 1461.62 2325.89 1465.19 Q2324.09 1468.73 2324.09 1475.86 Q2324.09 1482.97 2325.89 1486.53 Q2327.72 1490.07 2331.33 1490.07 Q2334.97 1490.07 2336.77 1486.53 Q2338.6 1482.97 2338.6 1475.86 Q2338.6 1468.73 2336.77 1465.19 Q2334.97 1461.62 2331.33 1461.62 M2331.33 1457.92 Q2337.14 1457.92 2340.2 1462.53 Q2343.28 1467.11 2343.28 1475.86 Q2343.28 1484.59 2340.2 1489.19 Q2337.14 1493.78 2331.33 1493.78 Q2325.52 1493.78 2322.45 1489.19 Q2319.39 1484.59 2319.39 1475.86 Q2319.39 1467.11 2322.45 1462.53 Q2325.52 1457.92 2331.33 1457.92 Z\" fill=\"#000000\" fill-rule=\"evenodd\" fill-opacity=\"1\" /><path clip-path=\"url(#clip610)\" d=\"M 0 0 M2343.28 1452.02 L2367.39 1452.02 L2367.39 1455.22 L2343.28 1455.22 L2343.28 1452.02 Z\" fill=\"#000000\" fill-rule=\"evenodd\" fill-opacity=\"1\" /><path clip-path=\"url(#clip610)\" d=\"M 0 0 M2371.55 1437.61 L2386.46 1437.61 L2386.46 1440.81 L2375.03 1440.81 L2375.03 1447.69 Q2375.85 1447.41 2376.68 1447.28 Q2377.51 1447.13 2378.34 1447.13 Q2383.04 1447.13 2385.78 1449.71 Q2388.53 1452.28 2388.53 1456.68 Q2388.53 1461.22 2385.71 1463.74 Q2382.89 1466.24 2377.75 1466.24 Q2375.98 1466.24 2374.14 1465.94 Q2372.32 1465.64 2370.36 1465.04 L2370.36 1461.22 Q2372.05 1462.14 2373.86 1462.59 Q2375.67 1463.04 2377.68 1463.04 Q2380.93 1463.04 2382.83 1461.33 Q2384.73 1459.62 2384.73 1456.68 Q2384.73 1453.75 2382.83 1452.04 Q2380.93 1450.33 2377.68 1450.33 Q2376.15 1450.33 2374.63 1450.67 Q2373.13 1451 2371.55 1451.72 L2371.55 1437.61 Z\" fill=\"#000000\" fill-rule=\"evenodd\" fill-opacity=\"1\" /><path clip-path=\"url(#clip610)\" d=\"M 0 0 M1239.01 1531.95 L1239.01 1512.66 L1244.86 1512.66 L1244.86 1562.19 L1239.01 1562.19 L1239.01 1556.84 Q1237.16 1560.02 1234.33 1561.58 Q1231.53 1563.11 1227.58 1563.11 Q1221.12 1563.11 1217.04 1557.95 Q1213 1552.8 1213 1544.39 Q1213 1535.99 1217.04 1530.83 Q1221.12 1525.68 1227.58 1525.68 Q1231.53 1525.68 1234.33 1527.24 Q1237.16 1528.77 1239.01 1531.95 M1219.05 1544.39 Q1219.05 1550.85 1221.69 1554.55 Q1224.37 1558.21 1229.01 1558.21 Q1233.66 1558.21 1236.33 1554.55 Q1239.01 1550.85 1239.01 1544.39 Q1239.01 1537.93 1236.33 1534.27 Q1233.66 1530.58 1229.01 1530.58 Q1224.37 1530.58 1221.69 1534.27 Q1219.05 1537.93 1219.05 1544.39 Z\" fill=\"#000000\" fill-rule=\"evenodd\" fill-opacity=\"1\" /><path clip-path=\"url(#clip610)\" d=\"M 0 0 M1281.5 1542.9 L1281.5 1545.76 L1254.57 1545.76 Q1254.95 1551.81 1258.2 1554.99 Q1261.48 1558.14 1267.3 1558.14 Q1270.68 1558.14 1273.83 1557.32 Q1277.01 1556.49 1280.13 1554.83 L1280.13 1560.37 Q1276.98 1561.71 1273.67 1562.41 Q1270.36 1563.11 1266.95 1563.11 Q1258.42 1563.11 1253.42 1558.14 Q1248.46 1553.18 1248.46 1544.71 Q1248.46 1535.96 1253.17 1530.83 Q1257.91 1525.68 1265.93 1525.68 Q1273.13 1525.68 1277.3 1530.33 Q1281.5 1534.94 1281.5 1542.9 M1275.64 1541.18 Q1275.58 1536.37 1272.94 1533.51 Q1270.33 1530.64 1266 1530.64 Q1261.1 1530.64 1258.14 1533.41 Q1255.21 1536.18 1254.76 1541.21 L1275.64 1541.18 Z\" fill=\"#000000\" fill-rule=\"evenodd\" fill-opacity=\"1\" /><path clip-path=\"url(#clip610)\" d=\"M 0 0 M1287.64 1512.66 L1293.5 1512.66 L1293.5 1562.19 L1287.64 1562.19 L1287.64 1512.66 Z\" fill=\"#000000\" fill-rule=\"evenodd\" fill-opacity=\"1\" /><path clip-path=\"url(#clip610)\" d=\"M 0 0 M1305.43 1516.42 L1305.43 1526.54 L1317.5 1526.54 L1317.5 1531.09 L1305.43 1531.09 L1305.43 1550.44 Q1305.43 1554.8 1306.61 1556.04 Q1307.82 1557.28 1311.48 1557.28 L1317.5 1557.28 L1317.5 1562.19 L1311.48 1562.19 Q1304.7 1562.19 1302.12 1559.67 Q1299.54 1557.12 1299.54 1550.44 L1299.54 1531.09 L1295.25 1531.09 L1295.25 1526.54 L1299.54 1526.54 L1299.54 1516.42 L1305.43 1516.42 Z\" fill=\"#000000\" fill-rule=\"evenodd\" fill-opacity=\"1\" /><path clip-path=\"url(#clip610)\" d=\"M 0 0 M1339.84 1544.27 Q1332.74 1544.27 1330 1545.89 Q1327.27 1547.51 1327.27 1551.43 Q1327.27 1554.55 1329.3 1556.39 Q1331.37 1558.21 1334.91 1558.21 Q1339.78 1558.21 1342.7 1554.77 Q1345.66 1551.3 1345.66 1545.57 L1345.66 1544.27 L1339.84 1544.27 M1351.52 1541.85 L1351.52 1562.19 L1345.66 1562.19 L1345.66 1556.77 Q1343.66 1560.02 1340.67 1561.58 Q1337.68 1563.11 1333.35 1563.11 Q1327.87 1563.11 1324.63 1560.05 Q1321.41 1556.97 1321.41 1551.81 Q1321.41 1545.79 1325.42 1542.74 Q1329.46 1539.68 1337.45 1539.68 L1345.66 1539.68 L1345.66 1539.11 Q1345.66 1535.07 1342.99 1532.87 Q1340.35 1530.64 1335.54 1530.64 Q1332.49 1530.64 1329.59 1531.38 Q1326.69 1532.11 1324.02 1533.57 L1324.02 1528.16 Q1327.24 1526.92 1330.26 1526.31 Q1333.28 1525.68 1336.15 1525.68 Q1343.88 1525.68 1347.7 1529.69 Q1351.52 1533.7 1351.52 1541.85 Z\" fill=\"#000000\" fill-rule=\"evenodd\" fill-opacity=\"1\" /><path clip-path=\"url(#clip610)\" d=\"M 0 0 M1384.18 1516.42 L1384.18 1526.54 L1396.24 1526.54 L1396.24 1531.09 L1384.18 1531.09 L1384.18 1550.44 Q1384.18 1554.8 1385.35 1556.04 Q1386.56 1557.28 1390.22 1557.28 L1396.24 1557.28 L1396.24 1562.19 L1390.22 1562.19 Q1383.44 1562.19 1380.87 1559.67 Q1378.29 1557.12 1378.29 1550.44 L1378.29 1531.09 L1373.99 1531.09 L1373.99 1526.54 L1378.29 1526.54 L1378.29 1516.42 L1384.18 1516.42 Z\" fill=\"#000000\" fill-rule=\"evenodd\" fill-opacity=\"1\" /><polyline clip-path=\"url(#clip612)\" style=\"stroke:#000000; stroke-width:2; stroke-opacity:0.1; fill:none\" points=\"\n",
       "  256.486,1374.82 2352.76,1374.82 \n",
       "  \"/>\n",
       "<polyline clip-path=\"url(#clip612)\" style=\"stroke:#000000; stroke-width:2; stroke-opacity:0.1; fill:none\" points=\"\n",
       "  256.486,1167.32 2352.76,1167.32 \n",
       "  \"/>\n",
       "<polyline clip-path=\"url(#clip612)\" style=\"stroke:#000000; stroke-width:2; stroke-opacity:0.1; fill:none\" points=\"\n",
       "  256.486,959.815 2352.76,959.815 \n",
       "  \"/>\n",
       "<polyline clip-path=\"url(#clip612)\" style=\"stroke:#000000; stroke-width:2; stroke-opacity:0.1; fill:none\" points=\"\n",
       "  256.486,752.313 2352.76,752.313 \n",
       "  \"/>\n",
       "<polyline clip-path=\"url(#clip612)\" style=\"stroke:#000000; stroke-width:2; stroke-opacity:0.1; fill:none\" points=\"\n",
       "  256.486,544.811 2352.76,544.811 \n",
       "  \"/>\n",
       "<polyline clip-path=\"url(#clip612)\" style=\"stroke:#000000; stroke-width:2; stroke-opacity:0.1; fill:none\" points=\"\n",
       "  256.486,337.308 2352.76,337.308 \n",
       "  \"/>\n",
       "<polyline clip-path=\"url(#clip612)\" style=\"stroke:#000000; stroke-width:2; stroke-opacity:0.1; fill:none\" points=\"\n",
       "  256.486,129.806 2352.76,129.806 \n",
       "  \"/>\n",
       "<polyline clip-path=\"url(#clip610)\" style=\"stroke:#000000; stroke-width:4; stroke-opacity:1; fill:none\" points=\"\n",
       "  256.486,1410.9 256.486,47.2441 \n",
       "  \"/>\n",
       "<polyline clip-path=\"url(#clip610)\" style=\"stroke:#000000; stroke-width:4; stroke-opacity:1; fill:none\" points=\"\n",
       "  256.486,1374.82 281.642,1374.82 \n",
       "  \"/>\n",
       "<polyline clip-path=\"url(#clip610)\" style=\"stroke:#000000; stroke-width:4; stroke-opacity:1; fill:none\" points=\"\n",
       "  256.486,1167.32 281.642,1167.32 \n",
       "  \"/>\n",
       "<polyline clip-path=\"url(#clip610)\" style=\"stroke:#000000; stroke-width:4; stroke-opacity:1; fill:none\" points=\"\n",
       "  256.486,959.815 281.642,959.815 \n",
       "  \"/>\n",
       "<polyline clip-path=\"url(#clip610)\" style=\"stroke:#000000; stroke-width:4; stroke-opacity:1; fill:none\" points=\"\n",
       "  256.486,752.313 281.642,752.313 \n",
       "  \"/>\n",
       "<polyline clip-path=\"url(#clip610)\" style=\"stroke:#000000; stroke-width:4; stroke-opacity:1; fill:none\" points=\"\n",
       "  256.486,544.811 281.642,544.811 \n",
       "  \"/>\n",
       "<polyline clip-path=\"url(#clip610)\" style=\"stroke:#000000; stroke-width:4; stroke-opacity:1; fill:none\" points=\"\n",
       "  256.486,337.308 281.642,337.308 \n",
       "  \"/>\n",
       "<polyline clip-path=\"url(#clip610)\" style=\"stroke:#000000; stroke-width:4; stroke-opacity:1; fill:none\" points=\"\n",
       "  256.486,129.806 281.642,129.806 \n",
       "  \"/>\n",
       "<path clip-path=\"url(#clip610)\" d=\"M 0 0 M208.542 1360.62 Q204.931 1360.62 203.102 1364.18 Q201.297 1367.73 201.297 1374.86 Q201.297 1381.96 203.102 1385.53 Q204.931 1389.07 208.542 1389.07 Q212.176 1389.07 213.982 1385.53 Q215.811 1381.96 215.811 1374.86 Q215.811 1367.73 213.982 1364.18 Q212.176 1360.62 208.542 1360.62 M208.542 1356.92 Q214.352 1356.92 217.408 1361.52 Q220.486 1366.11 220.486 1374.86 Q220.486 1383.58 217.408 1388.19 Q214.352 1392.77 208.542 1392.77 Q202.732 1392.77 199.653 1388.19 Q196.598 1383.58 196.598 1374.86 Q196.598 1366.11 199.653 1361.52 Q202.732 1356.92 208.542 1356.92 Z\" fill=\"#000000\" fill-rule=\"evenodd\" fill-opacity=\"1\" /><path clip-path=\"url(#clip610)\" d=\"M 0 0 M119.538 1180.66 L127.177 1180.66 L127.177 1154.3 L118.867 1155.96 L118.867 1151.7 L127.13 1150.04 L131.806 1150.04 L131.806 1180.66 L139.445 1180.66 L139.445 1184.6 L119.538 1184.6 L119.538 1180.66 Z\" fill=\"#000000\" fill-rule=\"evenodd\" fill-opacity=\"1\" /><path clip-path=\"url(#clip610)\" d=\"M 0 0 M154.515 1153.12 Q150.903 1153.12 149.075 1156.68 Q147.269 1160.22 147.269 1167.35 Q147.269 1174.46 149.075 1178.02 Q150.903 1181.57 154.515 1181.57 Q158.149 1181.57 159.954 1178.02 Q161.783 1174.46 161.783 1167.35 Q161.783 1160.22 159.954 1156.68 Q158.149 1153.12 154.515 1153.12 M154.515 1149.41 Q160.325 1149.41 163.38 1154.02 Q166.459 1158.6 166.459 1167.35 Q166.459 1176.08 163.38 1180.69 Q160.325 1185.27 154.515 1185.27 Q148.704 1185.27 145.626 1180.69 Q142.57 1176.08 142.57 1167.35 Q142.57 1158.6 145.626 1154.02 Q148.704 1149.41 154.515 1149.41 Z\" fill=\"#000000\" fill-rule=\"evenodd\" fill-opacity=\"1\" /><path clip-path=\"url(#clip610)\" d=\"M 0 0 M181.528 1153.12 Q177.917 1153.12 176.089 1156.68 Q174.283 1160.22 174.283 1167.35 Q174.283 1174.46 176.089 1178.02 Q177.917 1181.57 181.528 1181.57 Q185.163 1181.57 186.968 1178.02 Q188.797 1174.46 188.797 1167.35 Q188.797 1160.22 186.968 1156.68 Q185.163 1153.12 181.528 1153.12 M181.528 1149.41 Q187.338 1149.41 190.394 1154.02 Q193.473 1158.6 193.473 1167.35 Q193.473 1176.08 190.394 1180.69 Q187.338 1185.27 181.528 1185.27 Q175.718 1185.27 172.639 1180.69 Q169.584 1176.08 169.584 1167.35 Q169.584 1158.6 172.639 1154.02 Q175.718 1149.41 181.528 1149.41 Z\" fill=\"#000000\" fill-rule=\"evenodd\" fill-opacity=\"1\" /><path clip-path=\"url(#clip610)\" d=\"M 0 0 M208.542 1153.12 Q204.931 1153.12 203.102 1156.68 Q201.297 1160.22 201.297 1167.35 Q201.297 1174.46 203.102 1178.02 Q204.931 1181.57 208.542 1181.57 Q212.176 1181.57 213.982 1178.02 Q215.811 1174.46 215.811 1167.35 Q215.811 1160.22 213.982 1156.68 Q212.176 1153.12 208.542 1153.12 M208.542 1149.41 Q214.352 1149.41 217.408 1154.02 Q220.486 1158.6 220.486 1167.35 Q220.486 1176.08 217.408 1180.69 Q214.352 1185.27 208.542 1185.27 Q202.732 1185.27 199.653 1180.69 Q196.598 1176.08 196.598 1167.35 Q196.598 1158.6 199.653 1154.02 Q202.732 1149.41 208.542 1149.41 Z\" fill=\"#000000\" fill-rule=\"evenodd\" fill-opacity=\"1\" /><path clip-path=\"url(#clip610)\" d=\"M 0 0 M123.126 973.16 L139.445 973.16 L139.445 977.095 L117.501 977.095 L117.501 973.16 Q120.163 970.406 124.746 965.776 Q129.353 961.123 130.533 959.781 Q132.779 957.258 133.658 955.521 Q134.561 953.762 134.561 952.072 Q134.561 949.318 132.617 947.582 Q130.695 945.846 127.593 945.846 Q125.394 945.846 122.941 946.609 Q120.51 947.373 117.732 948.924 L117.732 944.202 Q120.556 943.068 123.01 942.489 Q125.464 941.91 127.501 941.91 Q132.871 941.91 136.066 944.596 Q139.26 947.281 139.26 951.771 Q139.26 953.901 138.45 955.822 Q137.663 957.721 135.556 960.313 Q134.978 960.984 131.876 964.202 Q128.774 967.396 123.126 973.16 Z\" fill=\"#000000\" fill-rule=\"evenodd\" fill-opacity=\"1\" /><path clip-path=\"url(#clip610)\" d=\"M 0 0 M154.515 945.614 Q150.903 945.614 149.075 949.179 Q147.269 952.721 147.269 959.85 Q147.269 966.957 149.075 970.521 Q150.903 974.063 154.515 974.063 Q158.149 974.063 159.954 970.521 Q161.783 966.957 161.783 959.85 Q161.783 952.721 159.954 949.179 Q158.149 945.614 154.515 945.614 M154.515 941.91 Q160.325 941.91 163.38 946.517 Q166.459 951.1 166.459 959.85 Q166.459 968.577 163.38 973.183 Q160.325 977.767 154.515 977.767 Q148.704 977.767 145.626 973.183 Q142.57 968.577 142.57 959.85 Q142.57 951.1 145.626 946.517 Q148.704 941.91 154.515 941.91 Z\" fill=\"#000000\" fill-rule=\"evenodd\" fill-opacity=\"1\" /><path clip-path=\"url(#clip610)\" d=\"M 0 0 M181.528 945.614 Q177.917 945.614 176.089 949.179 Q174.283 952.721 174.283 959.85 Q174.283 966.957 176.089 970.521 Q177.917 974.063 181.528 974.063 Q185.163 974.063 186.968 970.521 Q188.797 966.957 188.797 959.85 Q188.797 952.721 186.968 949.179 Q185.163 945.614 181.528 945.614 M181.528 941.91 Q187.338 941.91 190.394 946.517 Q193.473 951.1 193.473 959.85 Q193.473 968.577 190.394 973.183 Q187.338 977.767 181.528 977.767 Q175.718 977.767 172.639 973.183 Q169.584 968.577 169.584 959.85 Q169.584 951.1 172.639 946.517 Q175.718 941.91 181.528 941.91 Z\" fill=\"#000000\" fill-rule=\"evenodd\" fill-opacity=\"1\" /><path clip-path=\"url(#clip610)\" d=\"M 0 0 M208.542 945.614 Q204.931 945.614 203.102 949.179 Q201.297 952.721 201.297 959.85 Q201.297 966.957 203.102 970.521 Q204.931 974.063 208.542 974.063 Q212.176 974.063 213.982 970.521 Q215.811 966.957 215.811 959.85 Q215.811 952.721 213.982 949.179 Q212.176 945.614 208.542 945.614 M208.542 941.91 Q214.352 941.91 217.408 946.517 Q220.486 951.1 220.486 959.85 Q220.486 968.577 217.408 973.183 Q214.352 977.767 208.542 977.767 Q202.732 977.767 199.653 973.183 Q196.598 968.577 196.598 959.85 Q196.598 951.1 199.653 946.517 Q202.732 941.91 208.542 941.91 Z\" fill=\"#000000\" fill-rule=\"evenodd\" fill-opacity=\"1\" /><path clip-path=\"url(#clip610)\" d=\"M 0 0 M132.316 750.959 Q135.672 751.676 137.547 753.945 Q139.445 756.213 139.445 759.547 Q139.445 764.662 135.927 767.463 Q132.408 770.264 125.927 770.264 Q123.751 770.264 121.436 769.824 Q119.144 769.408 116.691 768.551 L116.691 764.037 Q118.635 765.172 120.95 765.75 Q123.265 766.329 125.788 766.329 Q130.186 766.329 132.478 764.593 Q134.792 762.857 134.792 759.547 Q134.792 756.491 132.64 754.778 Q130.51 753.042 126.691 753.042 L122.663 753.042 L122.663 749.2 L126.876 749.2 Q130.325 749.2 132.154 747.834 Q133.982 746.445 133.982 743.852 Q133.982 741.19 132.084 739.778 Q130.209 738.343 126.691 738.343 Q124.769 738.343 122.57 738.76 Q120.371 739.176 117.732 740.056 L117.732 735.889 Q120.394 735.149 122.709 734.778 Q125.047 734.408 127.107 734.408 Q132.431 734.408 135.533 736.839 Q138.635 739.246 138.635 743.366 Q138.635 746.237 136.992 748.227 Q135.348 750.195 132.316 750.959 Z\" fill=\"#000000\" fill-rule=\"evenodd\" fill-opacity=\"1\" /><path clip-path=\"url(#clip610)\" d=\"M 0 0 M154.515 738.112 Q150.903 738.112 149.075 741.676 Q147.269 745.218 147.269 752.348 Q147.269 759.454 149.075 763.019 Q150.903 766.561 154.515 766.561 Q158.149 766.561 159.954 763.019 Q161.783 759.454 161.783 752.348 Q161.783 745.218 159.954 741.676 Q158.149 738.112 154.515 738.112 M154.515 734.408 Q160.325 734.408 163.38 739.014 Q166.459 743.598 166.459 752.348 Q166.459 761.074 163.38 765.681 Q160.325 770.264 154.515 770.264 Q148.704 770.264 145.626 765.681 Q142.57 761.074 142.57 752.348 Q142.57 743.598 145.626 739.014 Q148.704 734.408 154.515 734.408 Z\" fill=\"#000000\" fill-rule=\"evenodd\" fill-opacity=\"1\" /><path clip-path=\"url(#clip610)\" d=\"M 0 0 M181.528 738.112 Q177.917 738.112 176.089 741.676 Q174.283 745.218 174.283 752.348 Q174.283 759.454 176.089 763.019 Q177.917 766.561 181.528 766.561 Q185.163 766.561 186.968 763.019 Q188.797 759.454 188.797 752.348 Q188.797 745.218 186.968 741.676 Q185.163 738.112 181.528 738.112 M181.528 734.408 Q187.338 734.408 190.394 739.014 Q193.473 743.598 193.473 752.348 Q193.473 761.074 190.394 765.681 Q187.338 770.264 181.528 770.264 Q175.718 770.264 172.639 765.681 Q169.584 761.074 169.584 752.348 Q169.584 743.598 172.639 739.014 Q175.718 734.408 181.528 734.408 Z\" fill=\"#000000\" fill-rule=\"evenodd\" fill-opacity=\"1\" /><path clip-path=\"url(#clip610)\" d=\"M 0 0 M208.542 738.112 Q204.931 738.112 203.102 741.676 Q201.297 745.218 201.297 752.348 Q201.297 759.454 203.102 763.019 Q204.931 766.561 208.542 766.561 Q212.176 766.561 213.982 763.019 Q215.811 759.454 215.811 752.348 Q215.811 745.218 213.982 741.676 Q212.176 738.112 208.542 738.112 M208.542 734.408 Q214.352 734.408 217.408 739.014 Q220.486 743.598 220.486 752.348 Q220.486 761.074 217.408 765.681 Q214.352 770.264 208.542 770.264 Q202.732 770.264 199.653 765.681 Q196.598 761.074 196.598 752.348 Q196.598 743.598 199.653 739.014 Q202.732 734.408 208.542 734.408 Z\" fill=\"#000000\" fill-rule=\"evenodd\" fill-opacity=\"1\" /><path clip-path=\"url(#clip610)\" d=\"M 0 0 M129.862 531.605 L118.056 550.054 L129.862 550.054 L129.862 531.605 M128.635 527.531 L134.515 527.531 L134.515 550.054 L139.445 550.054 L139.445 553.942 L134.515 553.942 L134.515 562.091 L129.862 562.091 L129.862 553.942 L114.26 553.942 L114.26 549.429 L128.635 527.531 Z\" fill=\"#000000\" fill-rule=\"evenodd\" fill-opacity=\"1\" /><path clip-path=\"url(#clip610)\" d=\"M 0 0 M154.515 530.609 Q150.903 530.609 149.075 534.174 Q147.269 537.716 147.269 544.845 Q147.269 551.952 149.075 555.516 Q150.903 559.058 154.515 559.058 Q158.149 559.058 159.954 555.516 Q161.783 551.952 161.783 544.845 Q161.783 537.716 159.954 534.174 Q158.149 530.609 154.515 530.609 M154.515 526.906 Q160.325 526.906 163.38 531.512 Q166.459 536.095 166.459 544.845 Q166.459 553.572 163.38 558.179 Q160.325 562.762 154.515 562.762 Q148.704 562.762 145.626 558.179 Q142.57 553.572 142.57 544.845 Q142.57 536.095 145.626 531.512 Q148.704 526.906 154.515 526.906 Z\" fill=\"#000000\" fill-rule=\"evenodd\" fill-opacity=\"1\" /><path clip-path=\"url(#clip610)\" d=\"M 0 0 M181.528 530.609 Q177.917 530.609 176.089 534.174 Q174.283 537.716 174.283 544.845 Q174.283 551.952 176.089 555.516 Q177.917 559.058 181.528 559.058 Q185.163 559.058 186.968 555.516 Q188.797 551.952 188.797 544.845 Q188.797 537.716 186.968 534.174 Q185.163 530.609 181.528 530.609 M181.528 526.906 Q187.338 526.906 190.394 531.512 Q193.473 536.095 193.473 544.845 Q193.473 553.572 190.394 558.179 Q187.338 562.762 181.528 562.762 Q175.718 562.762 172.639 558.179 Q169.584 553.572 169.584 544.845 Q169.584 536.095 172.639 531.512 Q175.718 526.906 181.528 526.906 Z\" fill=\"#000000\" fill-rule=\"evenodd\" fill-opacity=\"1\" /><path clip-path=\"url(#clip610)\" d=\"M 0 0 M208.542 530.609 Q204.931 530.609 203.102 534.174 Q201.297 537.716 201.297 544.845 Q201.297 551.952 203.102 555.516 Q204.931 559.058 208.542 559.058 Q212.176 559.058 213.982 555.516 Q215.811 551.952 215.811 544.845 Q215.811 537.716 213.982 534.174 Q212.176 530.609 208.542 530.609 M208.542 526.906 Q214.352 526.906 217.408 531.512 Q220.486 536.095 220.486 544.845 Q220.486 553.572 217.408 558.179 Q214.352 562.762 208.542 562.762 Q202.732 562.762 199.653 558.179 Q196.598 553.572 196.598 544.845 Q196.598 536.095 199.653 531.512 Q202.732 526.906 208.542 526.906 Z\" fill=\"#000000\" fill-rule=\"evenodd\" fill-opacity=\"1\" /><path clip-path=\"url(#clip610)\" d=\"M 0 0 M118.543 320.028 L136.899 320.028 L136.899 323.963 L122.825 323.963 L122.825 332.435 Q123.843 332.088 124.862 331.926 Q125.88 331.741 126.899 331.741 Q132.686 331.741 136.066 334.912 Q139.445 338.084 139.445 343.5 Q139.445 349.079 135.973 352.181 Q132.501 355.259 126.181 355.259 Q124.005 355.259 121.737 354.889 Q119.492 354.519 117.084 353.778 L117.084 349.079 Q119.168 350.213 121.39 350.769 Q123.612 351.324 126.089 351.324 Q130.093 351.324 132.431 349.218 Q134.769 347.111 134.769 343.5 Q134.769 339.889 132.431 337.783 Q130.093 335.676 126.089 335.676 Q124.214 335.676 122.339 336.093 Q120.487 336.509 118.543 337.389 L118.543 320.028 Z\" fill=\"#000000\" fill-rule=\"evenodd\" fill-opacity=\"1\" /><path clip-path=\"url(#clip610)\" d=\"M 0 0 M154.515 323.107 Q150.903 323.107 149.075 326.672 Q147.269 330.213 147.269 337.343 Q147.269 344.449 149.075 348.014 Q150.903 351.556 154.515 351.556 Q158.149 351.556 159.954 348.014 Q161.783 344.449 161.783 337.343 Q161.783 330.213 159.954 326.672 Q158.149 323.107 154.515 323.107 M154.515 319.403 Q160.325 319.403 163.38 324.01 Q166.459 328.593 166.459 337.343 Q166.459 346.07 163.38 350.676 Q160.325 355.259 154.515 355.259 Q148.704 355.259 145.626 350.676 Q142.57 346.07 142.57 337.343 Q142.57 328.593 145.626 324.01 Q148.704 319.403 154.515 319.403 Z\" fill=\"#000000\" fill-rule=\"evenodd\" fill-opacity=\"1\" /><path clip-path=\"url(#clip610)\" d=\"M 0 0 M181.528 323.107 Q177.917 323.107 176.089 326.672 Q174.283 330.213 174.283 337.343 Q174.283 344.449 176.089 348.014 Q177.917 351.556 181.528 351.556 Q185.163 351.556 186.968 348.014 Q188.797 344.449 188.797 337.343 Q188.797 330.213 186.968 326.672 Q185.163 323.107 181.528 323.107 M181.528 319.403 Q187.338 319.403 190.394 324.01 Q193.473 328.593 193.473 337.343 Q193.473 346.07 190.394 350.676 Q187.338 355.259 181.528 355.259 Q175.718 355.259 172.639 350.676 Q169.584 346.07 169.584 337.343 Q169.584 328.593 172.639 324.01 Q175.718 319.403 181.528 319.403 Z\" fill=\"#000000\" fill-rule=\"evenodd\" fill-opacity=\"1\" /><path clip-path=\"url(#clip610)\" d=\"M 0 0 M208.542 323.107 Q204.931 323.107 203.102 326.672 Q201.297 330.213 201.297 337.343 Q201.297 344.449 203.102 348.014 Q204.931 351.556 208.542 351.556 Q212.176 351.556 213.982 348.014 Q215.811 344.449 215.811 337.343 Q215.811 330.213 213.982 326.672 Q212.176 323.107 208.542 323.107 M208.542 319.403 Q214.352 319.403 217.408 324.01 Q220.486 328.593 220.486 337.343 Q220.486 346.07 217.408 350.676 Q214.352 355.259 208.542 355.259 Q202.732 355.259 199.653 350.676 Q196.598 346.07 196.598 337.343 Q196.598 328.593 199.653 324.01 Q202.732 319.403 208.542 319.403 Z\" fill=\"#000000\" fill-rule=\"evenodd\" fill-opacity=\"1\" /><path clip-path=\"url(#clip610)\" d=\"M 0 0 M127.917 127.942 Q124.769 127.942 122.918 130.095 Q121.089 132.248 121.089 135.998 Q121.089 139.725 122.918 141.901 Q124.769 144.053 127.917 144.053 Q131.066 144.053 132.894 141.901 Q134.746 139.725 134.746 135.998 Q134.746 132.248 132.894 130.095 Q131.066 127.942 127.917 127.942 M137.2 113.29 L137.2 117.549 Q135.441 116.715 133.635 116.276 Q131.853 115.836 130.093 115.836 Q125.464 115.836 123.01 118.961 Q120.58 122.086 120.232 128.405 Q121.598 126.391 123.658 125.327 Q125.718 124.239 128.195 124.239 Q133.404 124.239 136.413 127.41 Q139.445 130.558 139.445 135.998 Q139.445 141.322 136.297 144.539 Q133.149 147.757 127.917 147.757 Q121.922 147.757 118.751 143.174 Q115.58 138.567 115.58 129.84 Q115.58 121.646 119.468 116.785 Q123.357 111.901 129.908 111.901 Q131.667 111.901 133.45 112.248 Q135.255 112.595 137.2 113.29 Z\" fill=\"#000000\" fill-rule=\"evenodd\" fill-opacity=\"1\" /><path clip-path=\"url(#clip610)\" d=\"M 0 0 M154.515 115.604 Q150.903 115.604 149.075 119.169 Q147.269 122.711 147.269 129.84 Q147.269 136.947 149.075 140.512 Q150.903 144.053 154.515 144.053 Q158.149 144.053 159.954 140.512 Q161.783 136.947 161.783 129.84 Q161.783 122.711 159.954 119.169 Q158.149 115.604 154.515 115.604 M154.515 111.901 Q160.325 111.901 163.38 116.507 Q166.459 121.09 166.459 129.84 Q166.459 138.567 163.38 143.174 Q160.325 147.757 154.515 147.757 Q148.704 147.757 145.626 143.174 Q142.57 138.567 142.57 129.84 Q142.57 121.09 145.626 116.507 Q148.704 111.901 154.515 111.901 Z\" fill=\"#000000\" fill-rule=\"evenodd\" fill-opacity=\"1\" /><path clip-path=\"url(#clip610)\" d=\"M 0 0 M181.528 115.604 Q177.917 115.604 176.089 119.169 Q174.283 122.711 174.283 129.84 Q174.283 136.947 176.089 140.512 Q177.917 144.053 181.528 144.053 Q185.163 144.053 186.968 140.512 Q188.797 136.947 188.797 129.84 Q188.797 122.711 186.968 119.169 Q185.163 115.604 181.528 115.604 M181.528 111.901 Q187.338 111.901 190.394 116.507 Q193.473 121.09 193.473 129.84 Q193.473 138.567 190.394 143.174 Q187.338 147.757 181.528 147.757 Q175.718 147.757 172.639 143.174 Q169.584 138.567 169.584 129.84 Q169.584 121.09 172.639 116.507 Q175.718 111.901 181.528 111.901 Z\" fill=\"#000000\" fill-rule=\"evenodd\" fill-opacity=\"1\" /><path clip-path=\"url(#clip610)\" d=\"M 0 0 M208.542 115.604 Q204.931 115.604 203.102 119.169 Q201.297 122.711 201.297 129.84 Q201.297 136.947 203.102 140.512 Q204.931 144.053 208.542 144.053 Q212.176 144.053 213.982 140.512 Q215.811 136.947 215.811 129.84 Q215.811 122.711 213.982 119.169 Q212.176 115.604 208.542 115.604 M208.542 111.901 Q214.352 111.901 217.408 116.507 Q220.486 121.09 220.486 129.84 Q220.486 138.567 217.408 143.174 Q214.352 147.757 208.542 147.757 Q202.732 147.757 199.653 143.174 Q196.598 138.567 196.598 129.84 Q196.598 121.09 199.653 116.507 Q202.732 111.901 208.542 111.901 Z\" fill=\"#000000\" fill-rule=\"evenodd\" fill-opacity=\"1\" /><path clip-path=\"url(#clip610)\" d=\"M 0 0 M59.1993 968.357 Q55.2526 966.161 53.3747 963.106 Q51.4968 960.05 51.4968 955.912 Q51.4968 950.342 55.4117 947.319 Q59.2948 944.295 66.4881 944.295 L88.0042 944.295 L88.0042 950.183 L66.679 950.183 Q61.5546 950.183 59.072 951.997 Q56.5894 953.812 56.5894 957.536 Q56.5894 962.087 59.6131 964.729 Q62.6368 967.371 67.8567 967.371 L88.0042 967.371 L88.0042 973.259 L66.679 973.259 Q61.5228 973.259 59.072 975.073 Q56.5894 976.887 56.5894 980.675 Q56.5894 985.163 59.6449 987.805 Q62.6686 990.446 67.8567 990.446 L88.0042 990.446 L88.0042 996.335 L52.3562 996.335 L52.3562 990.446 L57.8944 990.446 Q54.616 988.441 53.0564 985.64 Q51.4968 982.839 51.4968 978.988 Q51.4968 975.105 53.4702 972.4 Q55.4436 969.662 59.1993 968.357 Z\" fill=\"#000000\" fill-rule=\"evenodd\" fill-opacity=\"1\" /><path clip-path=\"url(#clip610)\" d=\"M 0 0 M68.7161 907.66 L71.5806 907.66 L71.5806 934.587 Q77.6281 934.205 80.8109 930.959 Q83.9619 927.68 83.9619 921.856 Q83.9619 918.482 83.1344 915.331 Q82.3069 912.148 80.6518 909.029 L86.1899 909.029 Q87.5267 912.18 88.227 915.49 Q88.9272 918.8 88.9272 922.206 Q88.9272 930.736 83.9619 935.733 Q78.9967 940.698 70.5303 940.698 Q61.7774 940.698 56.6531 935.988 Q51.4968 931.245 51.4968 923.224 Q51.4968 916.031 56.1438 911.862 Q60.7589 907.66 68.7161 907.66 M66.9973 913.517 Q62.1912 913.58 59.3266 916.222 Q56.4621 918.832 56.4621 923.161 Q56.4621 928.062 59.2312 931.022 Q62.0002 933.951 67.0292 934.396 L66.9973 913.517 Z\" fill=\"#000000\" fill-rule=\"evenodd\" fill-opacity=\"1\" /><path clip-path=\"url(#clip610)\" d=\"M 0 0 M70.0847 885.317 Q70.0847 892.414 71.7079 895.152 Q73.3312 897.889 77.2461 897.889 Q80.3653 897.889 82.2114 895.852 Q84.0256 893.783 84.0256 890.25 Q84.0256 885.38 80.5881 882.452 Q77.1188 879.492 71.3897 879.492 L70.0847 879.492 L70.0847 885.317 M67.6657 873.636 L88.0042 873.636 L88.0042 879.492 L82.5933 879.492 Q85.8398 881.497 87.3994 884.489 Q88.9272 887.481 88.9272 891.81 Q88.9272 897.284 85.8716 900.531 Q82.7843 903.745 77.6281 903.745 Q71.6125 903.745 68.5569 899.735 Q65.5014 895.693 65.5014 887.704 L65.5014 879.492 L64.9285 879.492 Q60.8862 879.492 58.6901 882.166 Q56.4621 884.807 56.4621 889.613 Q56.4621 892.669 57.1941 895.565 Q57.9262 898.462 59.3903 901.135 L53.9795 901.135 Q52.7381 897.921 52.1334 894.897 Q51.4968 891.873 51.4968 889.009 Q51.4968 881.274 55.5072 877.455 Q59.5176 873.636 67.6657 873.636 Z\" fill=\"#000000\" fill-rule=\"evenodd\" fill-opacity=\"1\" /><path clip-path=\"url(#clip610)\" d=\"M 0 0 M66.4881 837.86 L88.0042 837.86 L88.0042 843.717 L66.679 843.717 Q61.6183 843.717 59.1038 845.69 Q56.5894 847.663 56.5894 851.61 Q56.5894 856.353 59.6131 859.09 Q62.6368 861.827 67.8567 861.827 L88.0042 861.827 L88.0042 867.715 L52.3562 867.715 L52.3562 861.827 L57.8944 861.827 Q54.6797 859.726 53.0883 856.894 Q51.4968 854.029 51.4968 850.305 Q51.4968 844.162 55.3163 841.011 Q59.1038 837.86 66.4881 837.86 Z\" fill=\"#000000\" fill-rule=\"evenodd\" fill-opacity=\"1\" /><path clip-path=\"url(#clip610)\" d=\"M 0 0 M56.4621 797.183 Q56.4621 801.894 60.1542 804.631 Q63.8145 807.369 70.212 807.369 Q76.6095 807.369 80.3017 804.663 Q83.9619 801.926 83.9619 797.183 Q83.9619 792.505 80.2698 789.767 Q76.5777 787.03 70.212 787.03 Q63.8781 787.03 60.186 789.767 Q56.4621 792.505 56.4621 797.183 M51.4968 797.183 Q51.4968 789.545 56.4621 785.184 Q61.4273 780.824 70.212 780.824 Q78.9649 780.824 83.9619 785.184 Q88.9272 789.545 88.9272 797.183 Q88.9272 804.854 83.9619 809.215 Q78.9649 813.543 70.212 813.543 Q61.4273 813.543 56.4621 809.215 Q51.4968 804.854 51.4968 797.183 Z\" fill=\"#000000\" fill-rule=\"evenodd\" fill-opacity=\"1\" /><path clip-path=\"url(#clip610)\" d=\"M 0 0 M38.479 756.634 L43.3487 756.634 L43.3487 762.236 Q43.3487 765.387 44.6219 766.628 Q45.895 767.838 49.2052 767.838 L52.3562 767.838 L52.3562 758.193 L56.9077 758.193 L56.9077 767.838 L88.0042 767.838 L88.0042 773.726 L56.9077 773.726 L56.9077 779.328 L52.3562 779.328 L52.3562 773.726 L49.8736 773.726 Q43.9216 773.726 41.2162 770.957 Q38.479 768.188 38.479 762.172 L38.479 756.634 Z\" fill=\"#000000\" fill-rule=\"evenodd\" fill-opacity=\"1\" /><path clip-path=\"url(#clip610)\" d=\"M 0 0 M70.0847 713.57 Q70.0847 720.668 71.7079 723.405 Q73.3312 726.142 77.2461 726.142 Q80.3653 726.142 82.2114 724.105 Q84.0256 722.036 84.0256 718.503 Q84.0256 713.634 80.5881 710.705 Q77.1188 707.745 71.3897 707.745 L70.0847 707.745 L70.0847 713.57 M67.6657 701.889 L88.0042 701.889 L88.0042 707.745 L82.5933 707.745 Q85.8398 709.75 87.3994 712.742 Q88.9272 715.734 88.9272 720.063 Q88.9272 725.537 85.8716 728.784 Q82.7843 731.999 77.6281 731.999 Q71.6125 731.999 68.5569 727.988 Q65.5014 723.946 65.5014 715.957 L65.5014 707.745 L64.9285 707.745 Q60.8862 707.745 58.6901 710.419 Q56.4621 713.061 56.4621 717.867 Q56.4621 720.922 57.1941 723.819 Q57.9262 726.715 59.3903 729.389 L53.9795 729.389 Q52.7381 726.174 52.1334 723.15 Q51.4968 720.127 51.4968 717.262 Q51.4968 709.528 55.5072 705.708 Q59.5176 701.889 67.6657 701.889 Z\" fill=\"#000000\" fill-rule=\"evenodd\" fill-opacity=\"1\" /><path clip-path=\"url(#clip610)\" d=\"M 0 0 M70.212 670.156 Q63.7508 670.156 60.0905 672.829 Q56.3984 675.471 56.3984 680.118 Q56.3984 684.765 60.0905 687.439 Q63.7508 690.08 70.212 690.08 Q76.6732 690.08 80.3653 687.439 Q84.0256 684.765 84.0256 680.118 Q84.0256 675.471 80.3653 672.829 Q76.6732 670.156 70.212 670.156 M57.7671 690.08 Q54.5842 688.234 53.0564 685.433 Q51.4968 682.601 51.4968 678.686 Q51.4968 672.193 56.6531 668.151 Q61.8093 664.077 70.212 664.077 Q78.6147 664.077 83.771 668.151 Q88.9272 672.193 88.9272 678.686 Q88.9272 682.601 87.3994 685.433 Q85.8398 688.234 82.657 690.08 L88.0042 690.08 L88.0042 695.969 L38.479 695.969 L38.479 690.08 L57.7671 690.08 Z\" fill=\"#000000\" fill-rule=\"evenodd\" fill-opacity=\"1\" /><path clip-path=\"url(#clip610)\" d=\"M 0 0 M53.4065 635.208 L58.9447 635.208 Q57.6716 637.691 57.035 640.364 Q56.3984 643.038 56.3984 645.902 Q56.3984 650.263 57.7352 652.459 Q59.072 654.623 61.7456 654.623 Q63.7826 654.623 64.9603 653.064 Q66.1061 651.504 67.1565 646.794 L67.6021 644.788 Q68.9389 638.55 71.3897 635.94 Q73.8086 633.298 78.1691 633.298 Q83.1344 633.298 86.0308 637.245 Q88.9272 641.16 88.9272 648.035 Q88.9272 650.899 88.3543 654.019 Q87.8132 657.106 86.6992 660.544 L80.6518 660.544 Q82.3387 657.297 83.198 654.146 Q84.0256 650.995 84.0256 647.908 Q84.0256 643.77 82.6251 641.542 Q81.1929 639.314 78.6147 639.314 Q76.2276 639.314 74.9545 640.937 Q73.6813 642.529 72.5037 647.971 L72.0262 650.008 Q70.8804 655.451 68.5251 657.87 Q66.138 660.289 62.0002 660.289 Q56.9713 660.289 54.2341 656.724 Q51.4968 653.159 51.4968 646.603 Q51.4968 643.356 51.9743 640.492 Q52.4517 637.627 53.4065 635.208 Z\" fill=\"#000000\" fill-rule=\"evenodd\" fill-opacity=\"1\" /><path clip-path=\"url(#clip610)\" d=\"M 0 0 M68.7161 575.943 L71.5806 575.943 L71.5806 602.87 Q77.6281 602.488 80.8109 599.242 Q83.9619 595.963 83.9619 590.139 Q83.9619 586.765 83.1344 583.614 Q82.3069 580.431 80.6518 577.312 L86.1899 577.312 Q87.5267 580.463 88.227 583.773 Q88.9272 587.083 88.9272 590.489 Q88.9272 599.019 83.9619 604.016 Q78.9967 608.981 70.5303 608.981 Q61.7774 608.981 56.6531 604.271 Q51.4968 599.528 51.4968 591.507 Q51.4968 584.314 56.1438 580.145 Q60.7589 575.943 68.7161 575.943 M66.9973 581.8 Q62.1912 581.863 59.3266 584.505 Q56.4621 587.115 56.4621 591.444 Q56.4621 596.345 59.2312 599.305 Q62.0002 602.234 67.0292 602.679 L66.9973 581.8 Z\" fill=\"#000000\" fill-rule=\"evenodd\" fill-opacity=\"1\" /><path clip-path=\"url(#clip610)\" d=\"M 0 0 M57.8307 549.144 Q57.2578 550.13 57.0032 551.308 Q56.7167 552.454 56.7167 553.854 Q56.7167 558.82 59.9632 561.493 Q63.1779 564.135 69.2253 564.135 L88.0042 564.135 L88.0042 570.023 L52.3562 570.023 L52.3562 564.135 L57.8944 564.135 Q54.6479 562.289 53.0883 559.329 Q51.4968 556.369 51.4968 552.136 Q51.4968 551.531 51.5923 550.799 Q51.656 550.067 51.8151 549.175 L57.8307 549.144 Z\" fill=\"#000000\" fill-rule=\"evenodd\" fill-opacity=\"1\" /><path clip-path=\"url(#clip610)\" d=\"M 0 0 M57.8307 523.49 Q57.2578 524.477 57.0032 525.654 Q56.7167 526.8 56.7167 528.2 Q56.7167 533.166 59.9632 535.839 Q63.1779 538.481 69.2253 538.481 L88.0042 538.481 L88.0042 544.369 L52.3562 544.369 L52.3562 538.481 L57.8944 538.481 Q54.6479 536.635 53.0883 533.675 Q51.4968 530.715 51.4968 526.482 Q51.4968 525.877 51.5923 525.145 Q51.656 524.413 51.8151 523.522 L57.8307 523.49 Z\" fill=\"#000000\" fill-rule=\"evenodd\" fill-opacity=\"1\" /><path clip-path=\"url(#clip610)\" d=\"M 0 0 M56.4621 504.966 Q56.4621 509.676 60.1542 512.414 Q63.8145 515.151 70.212 515.151 Q76.6095 515.151 80.3017 512.445 Q83.9619 509.708 83.9619 504.966 Q83.9619 500.287 80.2698 497.55 Q76.5777 494.812 70.212 494.812 Q63.8781 494.812 60.186 497.55 Q56.4621 500.287 56.4621 504.966 M51.4968 504.966 Q51.4968 497.327 56.4621 492.966 Q61.4273 488.606 70.212 488.606 Q78.9649 488.606 83.9619 492.966 Q88.9272 497.327 88.9272 504.966 Q88.9272 512.636 83.9619 516.997 Q78.9649 521.326 70.212 521.326 Q61.4273 521.326 56.4621 516.997 Q51.4968 512.636 51.4968 504.966 Z\" fill=\"#000000\" fill-rule=\"evenodd\" fill-opacity=\"1\" /><path clip-path=\"url(#clip610)\" d=\"M 0 0 M57.8307 461.806 Q57.2578 462.793 57.0032 463.971 Q56.7167 465.116 56.7167 466.517 Q56.7167 471.482 59.9632 474.156 Q63.1779 476.797 69.2253 476.797 L88.0042 476.797 L88.0042 482.686 L52.3562 482.686 L52.3562 476.797 L57.8944 476.797 Q54.6479 474.951 53.0883 471.991 Q51.4968 469.031 51.4968 464.798 Q51.4968 464.193 51.5923 463.461 Q51.656 462.729 51.8151 461.838 L57.8307 461.806 Z\" fill=\"#000000\" fill-rule=\"evenodd\" fill-opacity=\"1\" /><polyline clip-path=\"url(#clip612)\" style=\"stroke:#009af9; stroke-width:4; stroke-opacity:1; fill:none\" points=\"\n",
       "  2293.43,85.838 1302.69,730.329 807.315,1052.57 559.63,1213.7 435.787,1294.26 373.866,1334.54 342.905,1354.68 327.425,1364.75 319.685,1369.79 315.815,1372.3 \n",
       "  \n",
       "  \"/>\n",
       "<path clip-path=\"url(#clip610)\" d=\"\n",
       "M1998.94 213.659 L2282.88 213.659 L2282.88 92.6992 L1998.94 92.6992  Z\n",
       "  \" fill=\"#ffffff\" fill-rule=\"evenodd\" fill-opacity=\"1\"/>\n",
       "<polyline clip-path=\"url(#clip610)\" style=\"stroke:#000000; stroke-width:4; stroke-opacity:1; fill:none\" points=\"\n",
       "  1998.94,213.659 2282.88,213.659 2282.88,92.6992 1998.94,92.6992 1998.94,213.659 \n",
       "  \"/>\n",
       "<polyline clip-path=\"url(#clip610)\" style=\"stroke:#009af9; stroke-width:4; stroke-opacity:1; fill:none\" points=\"\n",
       "  2022.24,153.179 2161.99,153.179 \n",
       "  \"/>\n",
       "<path clip-path=\"url(#clip610)\" d=\"M 0 0 M2199.12 172.867 Q2197.32 177.496 2195.6 178.908 Q2193.89 180.32 2191.02 180.32 L2187.62 180.32 L2187.62 176.755 L2190.12 176.755 Q2191.88 176.755 2192.85 175.922 Q2193.82 175.089 2195 171.987 L2195.76 170.043 L2185.28 144.533 L2189.79 144.533 L2197.89 164.811 L2206 144.533 L2210.51 144.533 L2199.12 172.867 Z\" fill=\"#000000\" fill-rule=\"evenodd\" fill-opacity=\"1\" /><path clip-path=\"url(#clip610)\" d=\"M 0 0 M2216.39 166.524 L2224.03 166.524 L2224.03 140.158 L2215.72 141.825 L2215.72 137.566 L2223.98 135.899 L2228.66 135.899 L2228.66 166.524 L2236.3 166.524 L2236.3 170.459 L2216.39 170.459 L2216.39 166.524 Z\" fill=\"#000000\" fill-rule=\"evenodd\" fill-opacity=\"1\" /></svg>\n"
      ]
     },
     "execution_count": 46,
     "metadata": {},
     "output_type": "execute_result"
    }
   ],
   "source": [
    "#plot(strong_convergence[1][2],Statistics.mean([x[1] for x=strong_convergence])\n",
    "#    ,yaxis = \"mean of abs error\"\n",
    "#    ,xaxis = \"delta t\")"
   ]
  },
  {
   "cell_type": "markdown",
   "id": "510b801f-2908-4517-8641-b872225088fd",
   "metadata": {},
   "source": [
    "# Finding the expectation and the variance\n"
   ]
  },
  {
   "cell_type": "code",
   "execution_count": 13,
   "id": "067c2c47-39de-4fd1-a97a-47599fd50dfe",
   "metadata": {},
   "outputs": [],
   "source": [
    "observed_paths = [WienerProcess(N,T) for i=1:3000];"
   ]
  },
  {
   "cell_type": "code",
   "execution_count": 14,
   "id": "c6a224e8-2bde-44b8-bab2-d5f290a5315f",
   "metadata": {},
   "outputs": [],
   "source": [
    "evaluated_integrals = [integrate(slf,x) for x=observed_paths];"
   ]
  },
  {
   "cell_type": "code",
   "execution_count": 15,
   "id": "a0ff0a8f-3f01-4aa8-9dd2-27856ef7f785",
   "metadata": {},
   "outputs": [
    {
     "name": "stdout",
     "output_type": "stream",
     "text": [
      "Observed mean: 51.05623680643159\n",
      "Observed var: 3.080876369185244e8\n"
     ]
    }
   ],
   "source": [
    "println(\"Observed mean: \", Statistics.mean(evaluated_integrals)\n",
    "    ,\"\\nObserved var: \", Statistics.var(evaluated_integrals))"
   ]
  },
  {
   "cell_type": "code",
   "execution_count": 16,
   "id": "44ee4aec-07b1-4f58-9c56-62b691ee384e",
   "metadata": {},
   "outputs": [],
   "source": [
    "#plot(0.0:Δt:T,[x.path for x=observed_paths[1:10]]\n",
    "#    , legend=false)"
   ]
  },
  {
   "cell_type": "code",
   "execution_count": null,
   "id": "8d50d888-0f3c-4331-ab97-835e2de4df88",
   "metadata": {},
   "outputs": [],
   "source": []
  }
 ],
 "metadata": {
  "kernelspec": {
   "display_name": "Julia 1.5.3",
   "language": "julia",
   "name": "julia-1.5"
  },
  "language_info": {
   "file_extension": ".jl",
   "mimetype": "application/julia",
   "name": "julia",
   "version": "1.5.3"
  }
 },
 "nbformat": 4,
 "nbformat_minor": 5
}
