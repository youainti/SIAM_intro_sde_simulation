{
 "cells": [
  {
   "cell_type": "markdown",
   "id": "3aff95f9-b1ee-4190-a0ec-30bd6fc2a9e5",
   "metadata": {},
   "source": [
    "# Developing an integration routine.\n",
    "\n",
    "In this notebook, I develop a struct and methods that \n",
    "describe wiener processes, their refinement, and integration with respect to said wiener process.\n",
    "\n",
    "I then use that to integrate a single stochastic path."
   ]
  },
  {
   "cell_type": "code",
   "execution_count": 1,
   "id": "e953df11-3580-49b8-9df9-5f3dd6ba43e1",
   "metadata": {},
   "outputs": [],
   "source": [
    "using Random, Plots\n",
    "import Statistics\n",
    "using LinearAlgebra"
   ]
  },
  {
   "cell_type": "code",
   "execution_count": 2,
   "id": "2e4db4f9-8038-4727-9e6e-1257f14d1360",
   "metadata": {},
   "outputs": [
    {
     "data": {
      "text/plain": [
       "4.0e-5"
      ]
     },
     "execution_count": 2,
     "metadata": {},
     "output_type": "execute_result"
    }
   ],
   "source": [
    "T = 1.0\n",
    "N = 25000\n",
    "Δt = T/N"
   ]
  },
  {
   "cell_type": "code",
   "execution_count": 3,
   "id": "3fb86070-8c79-4eb0-a920-5cb39dc569e3",
   "metadata": {},
   "outputs": [],
   "source": [
    "struct WienerProcess\n",
    "    #the two key things to know are \n",
    "    path::Vector{Float64}\n",
    "    Δt::Float64\n",
    "   \n",
    "    #This creates a wiener process using a given path, while \n",
    "    #enforcing the invariant that a WienerProcess starts at zero\n",
    "    WienerProcess(p,d) = p[1] != 0.0 ? new(vcat(0.0,p),d) : new(p,d)\n",
    "end"
   ]
  },
  {
   "cell_type": "code",
   "execution_count": 4,
   "id": "eef17cfd-f0a2-4722-a11b-4419a87d05d3",
   "metadata": {},
   "outputs": [
    {
     "data": {
      "text/plain": [
       "spread_walk (generic function with 1 method)"
      ]
     },
     "execution_count": 4,
     "metadata": {},
     "output_type": "execute_result"
    }
   ],
   "source": [
    "#Adding methods (not as member functions though)\n",
    "function get_steps(p::WienerProcess)\n",
    "    #This pulls the steps out of the WienerProcess\n",
    "    len = length(p.path)\n",
    "    if p.path[1] != 0.0\n",
    "        error(\"test\")\n",
    "    end \n",
    "    steps = p.path[2:len] - p.path[1:len-1]\n",
    "end\n",
    "\n",
    "function refine(p::WienerProcess)\n",
    "    #This refines the resolution of the given WienerProcess, and returns another in it's stead\n",
    "    len = length(p.path)\n",
    "    arr = zeros(2*len-1)\n",
    "    \n",
    "    for ind in 1:len-1\n",
    "        arr[2*ind-1] = p.path[ind]\n",
    "        arr[2*ind] =  (0.5 * (p.path[ind] + p.path[ind+1]) .+ (((√p.Δt)/2)*randn(1)))[1]\n",
    "    end\n",
    "    arr[2*len-1] = p.path[len]\n",
    "    \n",
    "    return WienerProcess(arr, p.Δt/2)\n",
    "end\n",
    "\n",
    "function spread_walk(walk)\n",
    "    len = length(walk)\n",
    "    arr = zeros(2*len-1)\n",
    "    \n",
    "    for ind in 1:len-1\n",
    "        arr[2*ind-1] = walk[ind]\n",
    "        arr[2*ind] =  (0.5 * (walk[ind] + walk[ind+1]) ) \n",
    "    end\n",
    "    arr[2*len-1] = walk[len]\n",
    "    \n",
    "    return arr\n",
    "end"
   ]
  },
  {
   "cell_type": "code",
   "execution_count": 5,
   "id": "e7454426-e9b5-4fa3-81ff-abc93a941a96",
   "metadata": {},
   "outputs": [
    {
     "data": {
      "text/plain": [
       "WienerProcess"
      ]
     },
     "execution_count": 5,
     "metadata": {},
     "output_type": "execute_result"
    }
   ],
   "source": [
    "#Generators\n",
    "function WienerProcess(size::Int, domain_length::Float64)\n",
    "    #This function builds a wiener process out of randomly drawn steps\n",
    "    #it uses the domain length to calculate Δt\n",
    "    \n",
    "    #TODO: implement checking for begining with zero\n",
    "    return WienerProcess(cumsum(randn(size)),domain_length/size)\n",
    "end"
   ]
  },
  {
   "cell_type": "code",
   "execution_count": 6,
   "id": "1d555f23-8170-4542-bfd9-aa2de2242141",
   "metadata": {},
   "outputs": [
    {
     "data": {
      "text/plain": [
       "integrate (generic function with 1 method)"
      ]
     },
     "execution_count": 6,
     "metadata": {},
     "output_type": "execute_result"
    }
   ],
   "source": [
    "function integrate(f::Function, wp::WienerProcess)\n",
    "    #This function integrates across the time domain.\n",
    "    \n",
    "    sum = 0\n",
    "    steps = get_steps(wp)\n",
    "    \n",
    "    for i in 1:length(wp.path)-1\n",
    "        sum += f(wp.path[i]) * (steps[i]) \n",
    "    end\n",
    "    \n",
    "    return sum\n",
    "end"
   ]
  },
  {
   "cell_type": "code",
   "execution_count": 7,
   "id": "861a0917-1b7d-4576-8707-2666faab4ced",
   "metadata": {},
   "outputs": [
    {
     "data": {
      "text/plain": [
       "WienerProcess([0.0, 0.43055729509282836, -0.7551883256384692, -0.15488235684892204, 0.08526395468193038, 0.0418813361132952, 0.028385305967920604, 0.38980755861786465, 0.7722558324029984, -1.1200214451624064  …  99.53928474505717, 100.69761076683456, 98.20521351582244, 96.99536750085274, 96.84828809428465, 96.53642971246676, 95.92159403535307, 96.81594788678467, 97.03105377490182, 97.7088994940777], 4.0e-5)"
      ]
     },
     "execution_count": 7,
     "metadata": {},
     "output_type": "execute_result"
    }
   ],
   "source": [
    "#Generate a WienerProcess\n",
    "tp = WienerProcess(N,T)"
   ]
  },
  {
   "cell_type": "code",
   "execution_count": 8,
   "id": "0cd08b4f-00ce-4276-a913-f5b4ab459b27",
   "metadata": {},
   "outputs": [
    {
     "data": {
      "text/plain": [
       "unit (generic function with 1 method)"
      ]
     },
     "execution_count": 8,
     "metadata": {},
     "output_type": "execute_result"
    }
   ],
   "source": [
    "#test functions\n",
    "slf(x) = x\n",
    "unit(x) = 1"
   ]
  },
  {
   "cell_type": "markdown",
   "id": "7d0fe79c-1774-4fae-84fd-ba875a9c236f",
   "metadata": {},
   "source": [
    "Integrate $f(W_t) = 1$"
   ]
  },
  {
   "cell_type": "code",
   "execution_count": 9,
   "id": "612b4411-a980-4c54-9e5e-836babb5f14d",
   "metadata": {},
   "outputs": [
    {
     "data": {
      "text/plain": [
       "(97.70889949407767, 97.7088994940777)"
      ]
     },
     "execution_count": 9,
     "metadata": {},
     "output_type": "execute_result"
    }
   ],
   "source": [
    "integrate(unit,tp),tp.path[length(tp.path)]"
   ]
  },
  {
   "cell_type": "code",
   "execution_count": 10,
   "id": "2346d4bc-0376-434e-a599-6b65437f6af1",
   "metadata": {},
   "outputs": [
    {
     "data": {
      "text/plain": [
       "(97.7088994940777, 97.7088994940777)"
      ]
     },
     "execution_count": 10,
     "metadata": {},
     "output_type": "execute_result"
    }
   ],
   "source": [
    "rtp = refine(tp)\n",
    "integrate(unit,rtp),rtp.path[length(rtp.path)]"
   ]
  },
  {
   "cell_type": "markdown",
   "id": "8845d8f7-1ca6-4513-875f-aa201ac78d3b",
   "metadata": {},
   "source": [
    "# Answering the question given\n",
    "integrate $f(W_t) = W_t$, refining the partition as you go."
   ]
  },
  {
   "cell_type": "code",
   "execution_count": 11,
   "id": "5fee95de-6f62-42e2-b53c-79a043df10ed",
   "metadata": {},
   "outputs": [
    {
     "data": {
      "text/plain": [
       "time_refinements (generic function with 2 methods)"
      ]
     },
     "execution_count": 11,
     "metadata": {},
     "output_type": "execute_result"
    }
   ],
   "source": [
    "function time_refinements(tp, itt = 10)\n",
    "    iterated_test = tp\n",
    "    for iteration in 1:itt\n",
    "        iterated_test = refine(iterated_test)\n",
    "\n",
    "        integral = @time integrate(slf,iterated_test)\n",
    "\n",
    "        path_length = length(iterated_test.path)\n",
    "        las_value = iterated_test.path[path_length]\n",
    "        symbolic_integral = 0.5 * (las_value^2 - T )\n",
    "\n",
    "        println(\"iteration \",iteration, \". Number of discrete points \", path_length)\n",
    "        println(\"\\t\",integral, \" \" , symbolic_integral)\n",
    "        println(\"\\tAbsolute Error: \",abs(integral - symbolic_integral))\n",
    "        println(\"\\tSquared Error: \",(integral - symbolic_integral)^2)\n",
    "        println(\"\\tPercentage Error: \",(integral - symbolic_integral)/symbolic_integral, \"\\n\")\n",
    "    end\n",
    "end"
   ]
  },
  {
   "cell_type": "code",
   "execution_count": 12,
   "id": "bd71eefa-1709-4d85-89a9-dd17b687516d",
   "metadata": {},
   "outputs": [
    {
     "name": "stdout",
     "output_type": "stream",
     "text": [
      "  0.000293 seconds (6 allocations: 1.145 MiB)\n",
      "iteration 1. Number of discrete points 50001\n",
      "\t-1530.645517748703 4773.014520171889\n",
      "\tAbsolute Error: 6303.660037920592\n",
      "\tSquared Error: 3.973612987367704e7\n",
      "\tPercentage Error: -1.320687379281968\n",
      "\n",
      "  0.000938 seconds (6 allocations: 2.289 MiB)\n",
      "iteration 2. Number of discrete points 100001\n",
      "\t1621.1856275670054 4773.014520171889\n",
      "\tAbsolute Error: 3151.8288926048835\n",
      "\tSquared Error: 9.934025368258927e6\n",
      "\tPercentage Error: -0.6603434536569098\n",
      "\n",
      "  0.001801 seconds (6 allocations: 4.578 MiB)\n",
      "iteration 3. Number of discrete points 200001\n",
      "\t3197.099007445472 4773.014520171889\n",
      "\tAbsolute Error: 1575.9155127264166\n",
      "\tSquared Error: 2.4835097032517646e6\n",
      "\tPercentage Error: -0.3301719502562217\n",
      "\n",
      "  0.003297 seconds (6 allocations: 9.156 MiB)\n",
      "iteration 4. Number of discrete points 400001\n",
      "\t3985.0576746881125 4773.014520171889\n",
      "\tAbsolute Error: 787.9568454837763\n",
      "\tSquared Error: 620875.9903447437\n",
      "\tPercentage Error: -0.16508578428866794\n",
      "\n",
      "  0.007772 seconds (6 allocations: 18.311 MiB)\n",
      "iteration 5. Number of discrete points 800001\n",
      "\t4379.03670596991 4773.014520171889\n",
      "\tAbsolute Error: 393.9778142019786\n",
      "\tSquared Error: 155218.51808336878\n",
      "\tPercentage Error: -0.08254276464840724\n",
      "\n",
      "  0.018426 seconds (6 allocations: 36.621 MiB, 15.69% gc time)\n",
      "iteration 6. Number of discrete points 1600001\n",
      "\t4576.025173923023 4773.014520171889\n",
      "\tAbsolute Error: 196.98934624886533\n",
      "\tSquared Error: 38804.802535555355\n",
      "\tPercentage Error: -0.041271474330602125\n",
      "\n",
      "  0.032913 seconds (6 allocations: 73.242 MiB, 4.05% gc time)\n",
      "iteration 7. Number of discrete points 3200001\n",
      "\t4674.51969449248 4773.014520171889\n",
      "\tAbsolute Error: 98.49482567940868\n",
      "\tSquared Error: 9701.230685617104\n",
      "\tPercentage Error: -0.020635769127277163\n",
      "\n",
      "  0.086650 seconds (6 allocations: 146.485 MiB, 27.22% gc time)\n",
      "iteration 8. Number of discrete points 6400001\n",
      "\t4723.767242066504 4773.014520171889\n",
      "\tAbsolute Error: 49.247278105384794\n",
      "\tSquared Error: 2425.2944007891124\n",
      "\tPercentage Error: -0.010317856335289604\n",
      "\n",
      "  0.154409 seconds (6 allocations: 292.969 MiB, 15.16% gc time)\n",
      "iteration 9. Number of discrete points 12800001\n",
      "\t4748.390905121101 4773.014520171889\n",
      "\tAbsolute Error: 24.62361505078752\n",
      "\tSquared Error: 606.3224181693697\n",
      "\tPercentage Error: -0.005158923138976908\n",
      "\n",
      "  0.271200 seconds (6 allocations: 585.938 MiB, 3.64% gc time)\n",
      "iteration 10. Number of discrete points 25600001\n",
      "\t4760.702739830579 4773.014520171889\n",
      "\tAbsolute Error: 12.311780341309714\n",
      "\tSquared Error: 151.57993517266033\n",
      "\tPercentage Error: -0.002579455874118383\n",
      "\n",
      "  5.170969 seconds (76.99 M allocations: 8.400 GiB, 20.60% gc time, 0.92% compilation time)\n"
     ]
    }
   ],
   "source": [
    "@time time_refinements(tp, 10)"
   ]
  },
  {
   "cell_type": "markdown",
   "id": "510b801f-2908-4517-8641-b872225088fd",
   "metadata": {},
   "source": [
    "# Finding the expectation and the variance\n"
   ]
  },
  {
   "cell_type": "code",
   "execution_count": 13,
   "id": "067c2c47-39de-4fd1-a97a-47599fd50dfe",
   "metadata": {},
   "outputs": [],
   "source": [
    "observed_paths = [WienerProcess(N,T) for i=1:3000];"
   ]
  },
  {
   "cell_type": "code",
   "execution_count": 14,
   "id": "c6a224e8-2bde-44b8-bab2-d5f290a5315f",
   "metadata": {},
   "outputs": [],
   "source": [
    "evaluated_integrals = [integrate(slf,x) for x=observed_paths];"
   ]
  },
  {
   "cell_type": "code",
   "execution_count": 15,
   "id": "a0ff0a8f-3f01-4aa8-9dd2-27856ef7f785",
   "metadata": {},
   "outputs": [
    {
     "name": "stdout",
     "output_type": "stream",
     "text": [
      "Observed mean: -136.11883587323365\n",
      "Observed var: 2.892753990348395e8\n"
     ]
    }
   ],
   "source": [
    "println(\"Observed mean: \", Statistics.mean(evaluated_integrals)\n",
    "    ,\"\\nObserved var: \", Statistics.var(evaluated_integrals))"
   ]
  },
  {
   "cell_type": "code",
   "execution_count": 20,
   "id": "44ee4aec-07b1-4f58-9c56-62b691ee384e",
   "metadata": {},
   "outputs": [],
   "source": [
    "#plot(0.0:Δt:T,[x.path for x=observed_paths[1:10]]\n",
    "#    , legend=false)"
   ]
  },
  {
   "cell_type": "code",
   "execution_count": null,
   "id": "8d50d888-0f3c-4331-ab97-835e2de4df88",
   "metadata": {},
   "outputs": [],
   "source": []
  }
 ],
 "metadata": {
  "kernelspec": {
   "display_name": "Julia 1.6.2",
   "language": "julia",
   "name": "julia-1.6"
  },
  "language_info": {
   "file_extension": ".jl",
   "mimetype": "application/julia",
   "name": "julia",
   "version": "1.6.2"
  }
 },
 "nbformat": 4,
 "nbformat_minor": 5
}
