{
 "cells": [
  {
   "cell_type": "code",
   "execution_count": 1,
   "id": "e953df11-3580-49b8-9df9-5f3dd6ba43e1",
   "metadata": {},
   "outputs": [],
   "source": [
    "using Random, Plots\n",
    "import Statistics\n",
    "using LinearAlgebra"
   ]
  },
  {
   "cell_type": "code",
   "execution_count": 2,
   "id": "7f963db7-8814-44e0-a176-d5d4ae37dfcd",
   "metadata": {},
   "outputs": [
    {
     "data": {
      "text/plain": [
       "refine_walk (generic function with 1 method)"
      ]
     },
     "execution_count": 2,
     "metadata": {},
     "output_type": "execute_result"
    }
   ],
   "source": [
    "function refine_walk(walk)\n",
    "    len = length(walk)\n",
    "    arr = zeros(2*len-1)\n",
    "    \n",
    "    for ind in 1:len-1\n",
    "        arr[2*ind-1] = walk[ind]\n",
    "        arr[2*ind] =  (0.5 * (walk[ind] + walk[ind+1]) .+ (((√Δt)/2)*randn(1)))[1] #issue here?\n",
    "    end\n",
    "    arr[2*len-1] = walk[len]\n",
    "    \n",
    "    return arr\n",
    "end"
   ]
  },
  {
   "cell_type": "code",
   "execution_count": 3,
   "id": "2e4db4f9-8038-4727-9e6e-1257f14d1360",
   "metadata": {},
   "outputs": [
    {
     "data": {
      "text/plain": [
       "1.0e-6"
      ]
     },
     "execution_count": 3,
     "metadata": {},
     "output_type": "execute_result"
    }
   ],
   "source": [
    "const T = 1\n",
    "const N = 1000_000\n",
    "const Δt = T/N"
   ]
  },
  {
   "cell_type": "code",
   "execution_count": 4,
   "id": "a98122e4-fee2-4e4f-a81a-edbc83c2b2f4",
   "metadata": {},
   "outputs": [],
   "source": [
    "#Create random walk and wiener process\n",
    "η = (√Δt) * randn(N)\n",
    "Wₜ = cumsum(η);"
   ]
  },
  {
   "cell_type": "code",
   "execution_count": 5,
   "id": "0987e92c-73fc-41b8-95d9-c1fe0625a007",
   "metadata": {},
   "outputs": [
    {
     "data": {
      "text/plain": [
       "2.9741670165804868"
      ]
     },
     "execution_count": 5,
     "metadata": {},
     "output_type": "execute_result"
    }
   ],
   "source": [
    "0.5 * (Wₜ[N]^2 + T)"
   ]
  },
  {
   "cell_type": "code",
   "execution_count": 6,
   "id": "9e473c36-250a-44d6-917e-d06be99f2d0d",
   "metadata": {},
   "outputs": [
    {
     "data": {
      "text/plain": [
       "2.9751316873765408"
      ]
     },
     "execution_count": 6,
     "metadata": {},
     "output_type": "execute_result"
    }
   ],
   "source": [
    "dot(η, Wₜ)"
   ]
  },
  {
   "cell_type": "code",
   "execution_count": 7,
   "id": "9b0886c5-25e8-41de-80a7-a37ee2ed1fce",
   "metadata": {},
   "outputs": [],
   "source": [
    "η2 = refine_walk(η); #error here?"
   ]
  },
  {
   "cell_type": "code",
   "execution_count": 8,
   "id": "affc9506-0ffd-4dbc-b37b-50f80b73d48d",
   "metadata": {},
   "outputs": [
    {
     "data": {
      "text/plain": [
       "(8.760255222339793e-7, 1.0019253951834523e-6)"
      ]
     },
     "execution_count": 8,
     "metadata": {},
     "output_type": "execute_result"
    }
   ],
   "source": [
    "Statistics.var(η2),Statistics.var(η)"
   ]
  },
  {
   "cell_type": "code",
   "execution_count": 9,
   "id": "98917164-b7fd-4c1f-93f0-a72f7683b778",
   "metadata": {},
   "outputs": [
    {
     "data": {
      "text/plain": [
       "6.755980879154043"
      ]
     },
     "execution_count": 9,
     "metadata": {},
     "output_type": "execute_result"
    }
   ],
   "source": [
    "dot(η2, cumsum(η2))"
   ]
  },
  {
   "cell_type": "markdown",
   "id": "e16ce079-24d8-4265-bd60-0722c75ec7fd",
   "metadata": {},
   "source": [
    "# Significantly needs work\n",
    "for some reason it doesn't seem to converge"
   ]
  },
  {
   "cell_type": "code",
   "execution_count": null,
   "id": "78d656ec-3551-478c-b8bb-573a2070e68f",
   "metadata": {},
   "outputs": [],
   "source": []
  }
 ],
 "metadata": {
  "kernelspec": {
   "display_name": "Julia 1.6.2",
   "language": "julia",
   "name": "julia-1.6"
  },
  "language_info": {
   "file_extension": ".jl",
   "mimetype": "application/julia",
   "name": "julia",
   "version": "1.6.2"
  }
 },
 "nbformat": 4,
 "nbformat_minor": 5
}
