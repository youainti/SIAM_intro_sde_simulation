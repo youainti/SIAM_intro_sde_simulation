{
 "cells": [
  {
   "cell_type": "markdown",
   "id": "3aff95f9-b1ee-4190-a0ec-30bd6fc2a9e5",
   "metadata": {},
   "source": [
    "# Developing an integration routine.\n",
    "\n",
    "In this notebook, I develop a struct and methods that \n",
    "describe wiener processes, their refinement, and integration with respect to said wiener process.\n",
    "\n",
    "I then use that to integrate a single stochastic path."
   ]
  },
  {
   "cell_type": "code",
   "execution_count": 1,
   "id": "e953df11-3580-49b8-9df9-5f3dd6ba43e1",
   "metadata": {},
   "outputs": [],
   "source": [
    "using Random, Plots\n",
    "import Statistics\n",
    "using LinearAlgebra"
   ]
  },
  {
   "cell_type": "code",
   "execution_count": 2,
   "id": "2e4db4f9-8038-4727-9e6e-1257f14d1360",
   "metadata": {},
   "outputs": [
    {
     "data": {
      "text/plain": [
       "4.0e-5"
      ]
     },
     "execution_count": 2,
     "metadata": {},
     "output_type": "execute_result"
    }
   ],
   "source": [
    "T = 1.0\n",
    "N = 25000\n",
    "Δt = T/N"
   ]
  },
  {
   "cell_type": "code",
   "execution_count": 3,
   "id": "3fb86070-8c79-4eb0-a920-5cb39dc569e3",
   "metadata": {},
   "outputs": [],
   "source": [
    "struct WienerProcess\n",
    "    #the two key things to know are \n",
    "    path::Vector{Float64}\n",
    "    Δt::Float64\n",
    "   \n",
    "    #This creates a wiener process using a given path, while \n",
    "    #enforcing the invariant that a WienerProcess starts at zero\n",
    "    WienerProcess(p,d) = p[1] != 0.0 ? new(vcat(0.0,p),d) : new(p,d)\n",
    "end"
   ]
  },
  {
   "cell_type": "code",
   "execution_count": 4,
   "id": "eef17cfd-f0a2-4722-a11b-4419a87d05d3",
   "metadata": {},
   "outputs": [
    {
     "data": {
      "text/plain": [
       "spread_walk (generic function with 1 method)"
      ]
     },
     "execution_count": 4,
     "metadata": {},
     "output_type": "execute_result"
    }
   ],
   "source": [
    "#Adding methods (not as member functions though)\n",
    "function get_steps(p::WienerProcess)\n",
    "    #This pulls the steps out of the WienerProcess\n",
    "    len = length(p.path)\n",
    "    if p.path[1] != 0.0\n",
    "        error(\"test\")\n",
    "    end \n",
    "    steps = p.path[2:len] - p.path[1:len-1]\n",
    "end\n",
    "\n",
    "function refine(p::WienerProcess)\n",
    "    #This refines the resolution of the given WienerProcess, and returns another in it's stead\n",
    "    len = length(p.path)\n",
    "    arr = zeros(2*len-1)\n",
    "    \n",
    "    for ind in 1:len-1\n",
    "        arr[2*ind-1] = p.path[ind]\n",
    "        arr[2*ind] =  (0.5 * (p.path[ind] + p.path[ind+1]) .+ (((√p.Δt)/2)*randn(1)))[1]\n",
    "    end\n",
    "    arr[2*len-1] = p.path[len]\n",
    "    \n",
    "    return WienerProcess(arr, p.Δt/2)\n",
    "end\n",
    "\n",
    "function spread_walk(walk)\n",
    "    len = length(walk)\n",
    "    arr = zeros(2*len-1)\n",
    "    \n",
    "    for ind in 1:len-1\n",
    "        arr[2*ind-1] = walk[ind]\n",
    "        arr[2*ind] =  (0.5 * (walk[ind] + walk[ind+1]) ) \n",
    "    end\n",
    "    arr[2*len-1] = walk[len]\n",
    "    \n",
    "    return arr\n",
    "end"
   ]
  },
  {
   "cell_type": "code",
   "execution_count": 5,
   "id": "e7454426-e9b5-4fa3-81ff-abc93a941a96",
   "metadata": {},
   "outputs": [
    {
     "data": {
      "text/plain": [
       "WienerProcess"
      ]
     },
     "execution_count": 5,
     "metadata": {},
     "output_type": "execute_result"
    }
   ],
   "source": [
    "#Generators\n",
    "function WienerProcess(size::Int, domain_length::Float64)\n",
    "    #This function builds a wiener process out of randomly drawn steps\n",
    "    #it uses the domain length to calculate Δt\n",
    "    \n",
    "    #TODO: implement checking for begining with zero\n",
    "    return WienerProcess(cumsum(randn(size)),domain_length/size)\n",
    "end"
   ]
  },
  {
   "cell_type": "code",
   "execution_count": 6,
   "id": "1d555f23-8170-4542-bfd9-aa2de2242141",
   "metadata": {},
   "outputs": [
    {
     "data": {
      "text/plain": [
       "integrate (generic function with 1 method)"
      ]
     },
     "execution_count": 6,
     "metadata": {},
     "output_type": "execute_result"
    }
   ],
   "source": [
    "function integrate(f::Function, wp::WienerProcess)\n",
    "    #This function integrates across the time domain.\n",
    "    \n",
    "    sum = 0\n",
    "    steps = get_steps(wp)\n",
    "    \n",
    "    for i in 1:length(wp.path)-1\n",
    "        sum += f(wp.path[i]) * (steps[i]) \n",
    "    end\n",
    "    \n",
    "    return sum\n",
    "end"
   ]
  },
  {
   "cell_type": "code",
   "execution_count": 7,
   "id": "861a0917-1b7d-4576-8707-2666faab4ced",
   "metadata": {},
   "outputs": [
    {
     "data": {
      "text/plain": [
       "WienerProcess([0.0, -0.5439574559954317, -1.2142519823462683, -1.5733055705770993, -0.6859904869401457, -0.6392543389335029, -0.9345322012850051, -1.3881939920604034, -1.6028175978216337, -2.1259195470356502  …  -4.040743120978028, -4.066019780054612, -3.2263410618321138, -3.6252673867752203, -5.136073745310993, -5.444987305209882, -5.867429104891739, -6.357154759506193, -7.036421888793718, -5.954543927062083], 4.0e-5)"
      ]
     },
     "execution_count": 7,
     "metadata": {},
     "output_type": "execute_result"
    }
   ],
   "source": [
    "#Generate a WienerProcess\n",
    "tp = WienerProcess(N,T)"
   ]
  },
  {
   "cell_type": "code",
   "execution_count": 8,
   "id": "0cd08b4f-00ce-4276-a913-f5b4ab459b27",
   "metadata": {},
   "outputs": [
    {
     "data": {
      "text/plain": [
       "unit (generic function with 1 method)"
      ]
     },
     "execution_count": 8,
     "metadata": {},
     "output_type": "execute_result"
    }
   ],
   "source": [
    "#test functions\n",
    "slf(x) = x\n",
    "unit(x) = 1"
   ]
  },
  {
   "cell_type": "markdown",
   "id": "7d0fe79c-1774-4fae-84fd-ba875a9c236f",
   "metadata": {},
   "source": [
    "Integrate $f(W_t) = 1$"
   ]
  },
  {
   "cell_type": "code",
   "execution_count": 9,
   "id": "612b4411-a980-4c54-9e5e-836babb5f14d",
   "metadata": {},
   "outputs": [
    {
     "data": {
      "text/plain": [
       "(-5.954543927062083, -5.954543927062083)"
      ]
     },
     "execution_count": 9,
     "metadata": {},
     "output_type": "execute_result"
    }
   ],
   "source": [
    "integrate(unit,tp),tp.path[length(tp.path)]"
   ]
  },
  {
   "cell_type": "code",
   "execution_count": 10,
   "id": "2346d4bc-0376-434e-a599-6b65437f6af1",
   "metadata": {},
   "outputs": [
    {
     "data": {
      "text/plain": [
       "(-5.954543927062083, -5.954543927062083)"
      ]
     },
     "execution_count": 10,
     "metadata": {},
     "output_type": "execute_result"
    }
   ],
   "source": [
    "rtp = refine(tp)\n",
    "integrate(unit,rtp),rtp.path[length(rtp.path)]"
   ]
  },
  {
   "cell_type": "markdown",
   "id": "8845d8f7-1ca6-4513-875f-aa201ac78d3b",
   "metadata": {},
   "source": [
    "# Answering the question given\n",
    "integrate $f(W_t) = W_t$, refining the partition as you go."
   ]
  },
  {
   "cell_type": "code",
   "execution_count": 11,
   "id": "5fee95de-6f62-42e2-b53c-79a043df10ed",
   "metadata": {},
   "outputs": [
    {
     "data": {
      "text/plain": [
       "time_refinements (generic function with 2 methods)"
      ]
     },
     "execution_count": 11,
     "metadata": {},
     "output_type": "execute_result"
    }
   ],
   "source": [
    "function time_refinements(tp, itt = 10)\n",
    "    iterated_test = tp\n",
    "    \n",
    "    refinements = []\n",
    "    symbolic_integrals = []\n",
    "    \n",
    "    for iteration in 1:itt\n",
    "        iterated_test = refine(iterated_test)\n",
    "        #append!(refinements, iterated_test)\n",
    "\n",
    "        integral = @time integrate(slf,iterated_test)\n",
    "\n",
    "        path_length = length(iterated_test.path)\n",
    "        las_value = iterated_test.path[path_length]\n",
    "        symbolic_integral = 0.5 * (las_value^2 - T )\n",
    "\n",
    "        #Get the values needed of the \n",
    "        append!(symbolic_integrals, symbolic_integral)\n",
    "        \n",
    "        println(\"iteration \",iteration, \". Number of discrete points \", path_length)\n",
    "        println(\"\\t\",integral, \" \" , symbolic_integral)\n",
    "        println(\"\\tAbsolute Error: \", abs(integral - symbolic_integral))\n",
    "        println(\"\\tSquared Error: \",(integral - symbolic_integral)^2)\n",
    "        println(\"\\tPercentage Error: \",(integral - symbolic_integral)/symbolic_integral, \"\\n\")\n",
    "    end\n",
    "    #return absolute_error, list_of_Δs\n",
    "    return refinements, symbolic_integrals\n",
    "end"
   ]
  },
  {
   "cell_type": "code",
   "execution_count": 12,
   "id": "bd71eefa-1709-4d85-89a9-dd17b687516d",
   "metadata": {},
   "outputs": [
    {
     "name": "stdout",
     "output_type": "stream",
     "text": [
      "  0.000394 seconds (6 allocations: 1.145 MiB)\n",
      "iteration 1. Number of discrete points 50001\n",
      "\t-6269.7534576229455 17.228296689655966\n",
      "\tAbsolute Error: 6286.981754312602\n",
      "\tSquared Error: 3.952613957905956e7\n",
      "\tPercentage Error: -364.9218415240878\n",
      "\n",
      "  0.000796 seconds (6 allocations: 2.289 MiB)\n",
      "iteration 2. Number of discrete points 100001\n",
      "\t-3126.261381453662 17.228296689655966\n",
      "\tAbsolute Error: 3143.489678143318\n",
      "\tSquared Error: 9.88152735659358e6\n",
      "\tPercentage Error: -182.46085116648237\n",
      "\n",
      "  0.001393 seconds (6 allocations: 4.578 MiB)\n",
      "iteration 3. Number of discrete points 200001\n",
      "\t-1554.5175919756782 17.228296689655966\n",
      "\tAbsolute Error: 1571.7458886653342\n",
      "\tSquared Error: 2.470385138536381e6\n",
      "\tPercentage Error: -91.23048650590196\n",
      "\n",
      "  0.002526 seconds (6 allocations: 9.156 MiB)\n",
      "iteration 4. Number of discrete points 400001\n",
      "\t-768.64549320033 17.228296689655966\n",
      "\tAbsolute Error: 785.8737898899859\n",
      "\tSquared Error: 617597.6136360497\n",
      "\tPercentage Error: -45.61529233251666\n",
      "\n",
      "  0.006712 seconds (6 allocations: 18.311 MiB)\n",
      "iteration 5. Number of discrete points 800001\n",
      "\t-375.7081794239303 17.228296689655966\n",
      "\tAbsolute Error: 392.93647611358625\n",
      "\tSquared Error: 154399.07426056295\n",
      "\tPercentage Error: -22.80762185559\n",
      "\n",
      "  0.016578 seconds (6 allocations: 36.621 MiB, 17.54% gc time)\n",
      "iteration 6. Number of discrete points 1600001\n",
      "\t-179.24020303380553 17.228296689655966\n",
      "\tAbsolute Error: 196.4684997234615\n",
      "\tSquared Error: 38599.871383587786\n",
      "\tPercentage Error: -11.403826115986442\n",
      "\n",
      "  0.031867 seconds (6 allocations: 73.242 MiB, 10.97% gc time)\n",
      "iteration 7. Number of discrete points 3200001\n",
      "\t-81.00586140246926 17.228296689655966\n",
      "\tAbsolute Error: 98.23415809212523\n",
      "\tSquared Error: 9649.949816068653\n",
      "\tPercentage Error: -5.70190773131426\n",
      "\n",
      "  0.061001 seconds (6 allocations: 146.485 MiB, 6.11% gc time)\n",
      "iteration 8. Number of discrete points 6400001\n",
      "\t-31.88908369081967 17.228296689655966\n",
      "\tAbsolute Error: 49.11738038047564\n",
      "\tSquared Error: 2412.517055440333\n",
      "\tPercentage Error: -2.850971356324864\n",
      "\n",
      "  0.120947 seconds (6 allocations: 292.969 MiB, 4.27% gc time)\n",
      "iteration 9. Number of discrete points 12800001\n",
      "\t-7.330304085353011 17.228296689655966\n",
      "\tAbsolute Error: 24.558600775008976\n",
      "\tSquared Error: 603.1248720262715\n",
      "\tPercentage Error: -1.4254804881410126\n",
      "\n",
      "  0.254448 seconds (6 allocations: 585.938 MiB, 3.78% gc time)\n",
      "iteration 10. Number of discrete points 25600001\n",
      "\t4.948945397608203 17.228296689655966\n",
      "\tAbsolute Error: 12.279351292047764\n",
      "\tSquared Error: 150.78246815351508\n",
      "\tPercentage Error: -0.7127431987760231\n",
      "\n",
      "  5.014971 seconds (76.98 M allocations: 8.400 GiB, 21.46% gc time, 0.70% compilation time)\n",
      "  0.000447 seconds (6 allocations: 1.145 MiB)\n",
      "iteration 1. Number of discrete points 50001\n",
      "\t-6269.749901075341 17.228296689655966\n",
      "\tAbsolute Error: 6286.978197764997\n",
      "\tSquared Error: 3.952609485917241e7\n",
      "\tPercentage Error: -364.9216350876845\n",
      "\n",
      "  0.000948 seconds (6 allocations: 2.289 MiB)\n",
      "iteration 2. Number of discrete points 100001\n",
      "\t-3126.261081837496 17.228296689655966\n",
      "\tAbsolute Error: 3143.489378527152\n",
      "\tSquared Error: 9.88152547291302e6\n",
      "\tPercentage Error: -182.46083377554862\n",
      "\n",
      "  0.001843 seconds (6 allocations: 4.578 MiB)\n",
      "iteration 3. Number of discrete points 200001\n",
      "\t-1554.5168337118282 17.228296689655966\n",
      "\tAbsolute Error: 1571.7451304014842\n",
      "\tSquared Error: 2.4703827549407785e6\n",
      "\tPercentage Error: -91.23044249320218\n",
      "\n",
      "  0.002667 seconds (6 allocations: 9.156 MiB)\n",
      "iteration 4. Number of discrete points 400001\n",
      "\t-768.643587939586 17.228296689655966\n",
      "\tAbsolute Error: 785.871884629242\n",
      "\tSquared Error: 617594.6190507166\n",
      "\tPercentage Error: -45.61518174347943\n",
      "\n",
      "  0.007515 seconds (6 allocations: 18.311 MiB)\n",
      "iteration 5. Number of discrete points 800001\n",
      "\t-375.70759826910324 17.228296689655966\n",
      "\tAbsolute Error: 392.9358949587592\n",
      "\tSquared Error: 154398.61754704104\n",
      "\tPercentage Error: -22.80758812301402\n",
      "\n",
      "  0.011822 seconds (6 allocations: 36.621 MiB)\n",
      "iteration 6. Number of discrete points 1600001\n",
      "\t-179.23901133882921 17.228296689655966\n",
      "\tAbsolute Error: 196.46730802848518\n",
      "\tSquared Error: 38599.40312395967\n",
      "\tPercentage Error: -11.40375694519157\n",
      "\n",
      "  0.119118 seconds (6 allocations: 73.242 MiB, 74.20% gc time)\n",
      "iteration 7. Number of discrete points 3200001\n",
      "\t-81.00541301758228 17.228296689655966\n",
      "\tAbsolute Error: 98.23370970723825\n",
      "\tSquared Error: 9649.861722845953\n",
      "\tPercentage Error: -5.70188170524244\n",
      "\n",
      "  0.085421 seconds (6 allocations: 146.485 MiB, 28.50% gc time)\n",
      "iteration 8. Number of discrete points 6400001\n",
      "\t-31.888748391219643 17.228296689655966\n",
      "\tAbsolute Error: 49.11704508087561\n",
      "\tSquared Error: 2412.484117476767\n",
      "\tPercentage Error: -2.8509518941803433\n",
      "\n",
      "  0.147097 seconds (6 allocations: 292.969 MiB, 15.22% gc time)\n",
      "iteration 9. Number of discrete points 12800001\n",
      "\t-7.330383398538995 17.228296689655966\n",
      "\tAbsolute Error: 24.55868008819496\n",
      "\tSquared Error: 603.1287676743037\n",
      "\tPercentage Error: -1.4254850917990185\n",
      "\n",
      "  0.252829 seconds (6 allocations: 585.938 MiB, 3.84% gc time)\n",
      "iteration 10. Number of discrete points 25600001\n",
      "\t4.948977543296242 17.228296689655966\n",
      "\tAbsolute Error: 12.279319146359725\n",
      "\tSquared Error: 150.78167869815653\n",
      "\tPercentage Error: -0.7127413329103129\n",
      "\n",
      "  4.987221 seconds (76.73 M allocations: 8.384 GiB, 20.78% gc time)\n",
      "  0.000378 seconds (6 allocations: 1.145 MiB)\n",
      "iteration 1. Number of discrete points 50001\n",
      "\t-6269.756588151504 17.228296689655966\n",
      "\tAbsolute Error: 6286.98488484116\n",
      "\tSquared Error: 3.952617894222122e7\n",
      "\tPercentage Error: -364.9220232326232\n",
      "\n",
      "  0.000774 seconds (6 allocations: 2.289 MiB)\n",
      "iteration 2. Number of discrete points 100001\n",
      "\t-3126.267085708861 17.228296689655966\n",
      "\tAbsolute Error: 3143.495382398517\n",
      "\tSquared Error: 9.881563219160799e6\n",
      "\tPercentage Error: -182.46118226451844\n",
      "\n",
      "  0.001601 seconds (6 allocations: 4.578 MiB)\n",
      "iteration 3. Number of discrete points 200001\n",
      "\t-1554.5195585274614 17.228296689655966\n",
      "\tAbsolute Error: 1571.7478552171174\n",
      "\tSquared Error: 2.470391320379609e6\n",
      "\tPercentage Error: -91.23060065251893\n",
      "\n",
      "  0.002696 seconds (6 allocations: 9.156 MiB)\n",
      "iteration 4. Number of discrete points 400001\n",
      "\t-768.6461005996263 17.228296689655966\n",
      "\tAbsolute Error: 785.8743972892822\n",
      "\tSquared Error: 617598.5683147926\n",
      "\tPercentage Error: -45.615327588427746\n",
      "\n",
      "  0.007770 seconds (6 allocations: 18.311 MiB)\n",
      "iteration 5. Number of discrete points 800001\n",
      "\t-375.70988367538297 17.228296689655966\n",
      "\tAbsolute Error: 392.93818036503893\n",
      "\tSquared Error: 154400.41358858786\n",
      "\tPercentage Error: -22.807720777235208\n",
      "\n",
      "  0.011882 seconds (6 allocations: 36.621 MiB)\n",
      "iteration 6. Number of discrete points 1600001\n",
      "\t-179.24133274726137 17.228296689655966\n",
      "\tAbsolute Error: 196.46962943691733\n",
      "\tSquared Error: 38600.31529107961\n",
      "\tPercentage Error: -11.403891689123252\n",
      "\n",
      "  0.115633 seconds (6 allocations: 73.242 MiB, 76.84% gc time)\n",
      "iteration 7. Number of discrete points 3200001\n",
      "\t-81.00669909457915 17.228296689655966\n",
      "\tAbsolute Error: 98.23499578423511\n",
      "\tSquared Error: 9650.11439672869\n",
      "\tPercentage Error: -5.701956354351405\n",
      "\n",
      "  0.084608 seconds (6 allocations: 146.485 MiB, 27.25% gc time)\n",
      "iteration 8. Number of discrete points 6400001\n",
      "\t-31.88923243667247 17.228296689655966\n",
      "\tAbsolute Error: 49.117529126328435\n",
      "\tSquared Error: 2412.5316674757223\n",
      "\tPercentage Error: -2.850979990135593\n",
      "\n",
      "  0.151328 seconds (6 allocations: 292.969 MiB, 15.07% gc time)\n",
      "iteration 9. Number of discrete points 12800001\n",
      "\t-7.330197127936621 17.228296689655966\n",
      "\tAbsolute Error: 24.558493817592588\n",
      "\tSquared Error: 603.1196185887334\n",
      "\tPercentage Error: -1.4254742799000983\n",
      "\n",
      "  0.252178 seconds (6 allocations: 585.938 MiB, 3.78% gc time)\n",
      "iteration 10. Number of discrete points 25600001\n",
      "\t4.949018025571247 17.228296689655966\n",
      "\tAbsolute Error: 12.27927866408472\n",
      "\tSquared Error: 150.7806845102462\n",
      "\tPercentage Error: -0.7127389831553873\n",
      "\n",
      "  4.974487 seconds (76.73 M allocations: 8.384 GiB, 20.77% gc time)\n",
      "  0.000372 seconds (6 allocations: 1.145 MiB)\n",
      "iteration 1. Number of discrete points 50001\n",
      "\t-6269.748697886067 17.228296689655966\n",
      "\tAbsolute Error: 6286.976994575723\n",
      "\tSquared Error: 3.9526079730324395e7\n",
      "\tPercentage Error: -364.9215652497141\n",
      "\n",
      "  0.000872 seconds (6 allocations: 2.289 MiB)\n",
      "iteration 2. Number of discrete points 100001\n",
      "\t-3126.2611463095086 17.228296689655966\n",
      "\tAbsolute Error: 3143.4894429991646\n",
      "\tSquared Error: 9.881525878247198e6\n",
      "\tPercentage Error: -182.46083751776493\n",
      "\n",
      "  0.001562 seconds (6 allocations: 4.578 MiB)\n",
      "iteration 3. Number of discrete points 200001\n",
      "\t-1554.51629553533 17.228296689655966\n",
      "\tAbsolute Error: 1571.744592224986\n",
      "\tSquared Error: 2.4703810631884877e6\n",
      "\tPercentage Error: -91.2304112552622\n",
      "\n",
      "  0.002692 seconds (6 allocations: 9.156 MiB)\n",
      "iteration 4. Number of discrete points 400001\n",
      "\t-768.6431334862978 17.228296689655966\n",
      "\tAbsolute Error: 785.8714301759537\n",
      "\tSquared Error: 617593.904766799\n",
      "\tPercentage Error: -45.61515536517307\n",
      "\n",
      "  0.007532 seconds (6 allocations: 18.311 MiB)\n",
      "iteration 5. Number of discrete points 800001\n",
      "\t-375.70713448268225 17.228296689655966\n",
      "\tAbsolute Error: 392.9354311723382\n",
      "\tSquared Error: 154398.25307059134\n",
      "\tPercentage Error: -22.807561202974895\n",
      "\n",
      "  0.011976 seconds (6 allocations: 36.621 MiB)\n",
      "iteration 6. Number of discrete points 1600001\n",
      "\t-179.23881593571065 17.228296689655966\n",
      "\tAbsolute Error: 196.4671126253666\n",
      "\tSquared Error: 38599.32634334849\n",
      "\tPercentage Error: -11.403745603204484\n",
      "\n",
      "  0.122442 seconds (6 allocations: 73.242 MiB, 78.32% gc time)\n",
      "iteration 7. Number of discrete points 3200001\n",
      "\t-81.00526739198554 17.228296689655966\n",
      "\tAbsolute Error: 98.2335640816415\n",
      "\tSquared Error: 9649.833112181968\n",
      "\tPercentage Error: -5.701873252543989\n",
      "\n",
      "  0.087470 seconds (6 allocations: 146.485 MiB, 26.83% gc time)\n",
      "iteration 8. Number of discrete points 6400001\n",
      "\t-31.888622010390268 17.228296689655966\n",
      "\tAbsolute Error: 49.116918700046234\n",
      "\tSquared Error: 2412.4717025869513\n",
      "\tPercentage Error: -2.8509445585260034\n",
      "\n",
      "  0.145335 seconds (6 allocations: 292.969 MiB, 15.77% gc time)\n",
      "iteration 9. Number of discrete points 12800001\n",
      "\t-7.330125188406584 17.228296689655966\n",
      "\tAbsolute Error: 24.55842187806255\n",
      "\tSquared Error: 603.1160851409013\n",
      "\tPercentage Error: -1.425470104238898\n",
      "\n",
      "  0.246533 seconds (6 allocations: 585.938 MiB, 3.85% gc time)\n",
      "iteration 10. Number of discrete points 25600001\n",
      "\t4.948962076719105 17.228296689655966\n",
      "\tAbsolute Error: 12.27933461293686\n",
      "\tSquared Error: 150.78205853646924\n",
      "\tPercentage Error: -0.7127422306529867\n",
      "\n",
      "  5.013958 seconds (76.73 M allocations: 8.384 GiB, 20.89% gc time)\n"
     ]
    },
    {
     "data": {
      "text/plain": [
       "4-element Vector{Tuple{Vector{Any}, Vector{Any}}}:\n",
       " ([], [17.228296689655966, 17.228296689655966, 17.228296689655966, 17.228296689655966, 17.228296689655966, 17.228296689655966, 17.228296689655966, 17.228296689655966, 17.228296689655966, 17.228296689655966])\n",
       " ([], [17.228296689655966, 17.228296689655966, 17.228296689655966, 17.228296689655966, 17.228296689655966, 17.228296689655966, 17.228296689655966, 17.228296689655966, 17.228296689655966, 17.228296689655966])\n",
       " ([], [17.228296689655966, 17.228296689655966, 17.228296689655966, 17.228296689655966, 17.228296689655966, 17.228296689655966, 17.228296689655966, 17.228296689655966, 17.228296689655966, 17.228296689655966])\n",
       " ([], [17.228296689655966, 17.228296689655966, 17.228296689655966, 17.228296689655966, 17.228296689655966, 17.228296689655966, 17.228296689655966, 17.228296689655966, 17.228296689655966, 17.228296689655966])"
      ]
     },
     "execution_count": 12,
     "metadata": {},
     "output_type": "execute_result"
    }
   ],
   "source": [
    "evaluated_values = [@time time_refinements(tp, 10) for x=1:4]"
   ]
  },
  {
   "cell_type": "code",
   "execution_count": 13,
   "id": "23f1b689",
   "metadata": {},
   "outputs": [],
   "source": [
    "#plot(strong_convergence[1][2],Statistics.mean([x[1] for x=strong_convergence])\n",
    "#    ,yaxis = \"mean of abs error\"\n",
    "#    ,xaxis = \"delta t\")"
   ]
  },
  {
   "cell_type": "markdown",
   "id": "510b801f-2908-4517-8641-b872225088fd",
   "metadata": {},
   "source": [
    "# Finding the expectation and the variance\n"
   ]
  },
  {
   "cell_type": "code",
   "execution_count": 14,
   "id": "067c2c47-39de-4fd1-a97a-47599fd50dfe",
   "metadata": {},
   "outputs": [],
   "source": [
    "observed_paths = [WienerProcess(N,T) for i=1:3000];"
   ]
  },
  {
   "cell_type": "code",
   "execution_count": 15,
   "id": "c6a224e8-2bde-44b8-bab2-d5f290a5315f",
   "metadata": {},
   "outputs": [],
   "source": [
    "evaluated_integrals = [integrate(slf,x) for x=observed_paths];"
   ]
  },
  {
   "cell_type": "code",
   "execution_count": 16,
   "id": "a0ff0a8f-3f01-4aa8-9dd2-27856ef7f785",
   "metadata": {},
   "outputs": [
    {
     "name": "stdout",
     "output_type": "stream",
     "text": [
      "Observed mean: 127.68850600942208\n",
      "Observed var: 2.901842929297139e8\n"
     ]
    }
   ],
   "source": [
    "println(\"Observed mean: \", Statistics.mean(evaluated_integrals)\n",
    "    ,\"\\nObserved var: \", Statistics.var(evaluated_integrals))"
   ]
  },
  {
   "cell_type": "code",
   "execution_count": 17,
   "id": "44ee4aec-07b1-4f58-9c56-62b691ee384e",
   "metadata": {},
   "outputs": [],
   "source": [
    "#plot(0.0:Δt:T,[x.path for x=observed_paths[1:10]]\n",
    "#    , legend=false)"
   ]
  },
  {
   "cell_type": "code",
   "execution_count": null,
   "id": "8d50d888-0f3c-4331-ab97-835e2de4df88",
   "metadata": {},
   "outputs": [],
   "source": []
  }
 ],
 "metadata": {
  "kernelspec": {
   "display_name": "Julia 1.6.2",
   "language": "julia",
   "name": "julia-1.6"
  },
  "language_info": {
   "file_extension": ".jl",
   "mimetype": "application/julia",
   "name": "julia",
   "version": "1.6.2"
  }
 },
 "nbformat": 4,
 "nbformat_minor": 5
}
