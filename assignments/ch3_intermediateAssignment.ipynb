{
 "cells": [
  {
   "cell_type": "markdown",
   "id": "3aff95f9-b1ee-4190-a0ec-30bd6fc2a9e5",
   "metadata": {},
   "source": [
    "# Developing an integration routine.\n",
    "\n",
    "In this notebook, I develop a struct and methods that \n",
    "describe wiener processes, their refinement, and integration with respect to said wiener process.\n",
    "\n",
    "I then use that to integrate a single stochastic path."
   ]
  },
  {
   "cell_type": "code",
   "execution_count": 1,
   "id": "e953df11-3580-49b8-9df9-5f3dd6ba43e1",
   "metadata": {},
   "outputs": [],
   "source": [
    "using Random, Plots\n",
    "import Statistics\n",
    "using LinearAlgebra"
   ]
  },
  {
   "cell_type": "code",
   "execution_count": 2,
   "id": "2e4db4f9-8038-4727-9e6e-1257f14d1360",
   "metadata": {},
   "outputs": [
    {
     "data": {
      "text/plain": [
       "4.0e-5"
      ]
     },
     "execution_count": 2,
     "metadata": {},
     "output_type": "execute_result"
    }
   ],
   "source": [
    "T = 1.0\n",
    "N = 25000\n",
    "Δt = T/N"
   ]
  },
  {
   "cell_type": "code",
   "execution_count": 3,
   "id": "3fb86070-8c79-4eb0-a920-5cb39dc569e3",
   "metadata": {},
   "outputs": [],
   "source": [
    "struct WienerProcess\n",
    "    #the two key things to know are \n",
    "    path::Vector{Float64}\n",
    "    Δt::Float64\n",
    "   \n",
    "    #This creates a wiener process using a given path, while \n",
    "    #enforcing the invariant that a WienerProcess starts at zero\n",
    "    WienerProcess(p,d) = p[1] != 0.0 ? new(vcat(0.0,p),d) : new(p,d)\n",
    "end"
   ]
  },
  {
   "cell_type": "code",
   "execution_count": 4,
   "id": "eef17cfd-f0a2-4722-a11b-4419a87d05d3",
   "metadata": {},
   "outputs": [
    {
     "data": {
      "text/plain": [
       "spread_walk (generic function with 1 method)"
      ]
     },
     "execution_count": 4,
     "metadata": {},
     "output_type": "execute_result"
    }
   ],
   "source": [
    "#Adding methods (not as member functions though)\n",
    "function get_steps(p::WienerProcess)\n",
    "    #This pulls the steps out of the WienerProcess\n",
    "    len = length(p.path)\n",
    "    if p.path[1] != 0.0\n",
    "        error(\"test\")\n",
    "    end \n",
    "    steps = p.path[2:len] - p.path[1:len-1]\n",
    "end\n",
    "\n",
    "function refine(p::WienerProcess)\n",
    "    #This refines the resolution of the given WienerProcess, and returns another in it's stead\n",
    "    len = length(p.path)\n",
    "    arr = zeros(2*len-1)\n",
    "    \n",
    "    for ind in 1:len-1\n",
    "        arr[2*ind-1] = p.path[ind]\n",
    "        arr[2*ind] =  (0.5 * (p.path[ind] + p.path[ind+1]) .+ (((√p.Δt)/2)*randn(1)))[1]\n",
    "    end\n",
    "    arr[2*len-1] = p.path[len]\n",
    "    \n",
    "    return WienerProcess(arr, p.Δt/2)\n",
    "end\n",
    "\n",
    "function spread_walk(walk)\n",
    "    len = length(walk)\n",
    "    arr = zeros(2*len-1)\n",
    "    \n",
    "    for ind in 1:len-1\n",
    "        arr[2*ind-1] = walk[ind]\n",
    "        arr[2*ind] =  (0.5 * (walk[ind] + walk[ind+1]) ) \n",
    "    end\n",
    "    arr[2*len-1] = walk[len]\n",
    "    \n",
    "    return arr\n",
    "end"
   ]
  },
  {
   "cell_type": "code",
   "execution_count": 5,
   "id": "e7454426-e9b5-4fa3-81ff-abc93a941a96",
   "metadata": {},
   "outputs": [
    {
     "data": {
      "text/plain": [
       "WienerProcess"
      ]
     },
     "execution_count": 5,
     "metadata": {},
     "output_type": "execute_result"
    }
   ],
   "source": [
    "#Generators\n",
    "function WienerProcessFromSteps(steps::Vector{Float64}, domain_length::Float64)\n",
    "    #this function builds a wiener process out of a given set of steps.\n",
    "    #it uses the domain length to calculate Δt\n",
    "    \n",
    "    #TODO: implement checking for begining with zero\n",
    "    return WienerProcess(steps,domain_length/length(steps))\n",
    "end\n",
    "\n",
    "function WienerProcess(size::Int, domain_length::Float64)\n",
    "    #This function builds a wiener process out of randomly drawn steps\n",
    "    #it uses the domain length to calculate Δt\n",
    "    \n",
    "    #TODO: implement checking for begining with zero\n",
    "    return WienerProcess(cumsum(randn(size)),domain_length/size)\n",
    "end"
   ]
  },
  {
   "cell_type": "code",
   "execution_count": 6,
   "id": "1d555f23-8170-4542-bfd9-aa2de2242141",
   "metadata": {},
   "outputs": [
    {
     "data": {
      "text/plain": [
       "integrate (generic function with 1 method)"
      ]
     },
     "execution_count": 6,
     "metadata": {},
     "output_type": "execute_result"
    }
   ],
   "source": [
    "function integrate(f::Function, wp::WienerProcess)\n",
    "    #This function integrates across the time domain.\n",
    "    \n",
    "    sum = 0\n",
    "    steps = get_steps(wp)\n",
    "    \n",
    "    for i in 1:length(wp.path)-1\n",
    "        sum += f(wp.path[i]) * (steps[i]) \n",
    "    end\n",
    "    \n",
    "    return sum\n",
    "end"
   ]
  },
  {
   "cell_type": "code",
   "execution_count": 7,
   "id": "861a0917-1b7d-4576-8707-2666faab4ced",
   "metadata": {},
   "outputs": [
    {
     "data": {
      "text/plain": [
       "WienerProcess([0.0, 1.8829949734907265, 3.3250873836127597, 3.096714737918071, 4.438201856665624, 4.2705168154272615, 5.754823899159714, 6.465684995789774, 5.9714935176082395, 5.512718279617088  …  -18.226557280145187, -20.23683250735481, -20.649737497546198, -20.722837408881787, -22.180519087797773, -22.605585133344643, -23.41359522068531, -21.909119865011412, -22.170504831889502, -21.99102602124512], 4.0e-5)"
      ]
     },
     "execution_count": 7,
     "metadata": {},
     "output_type": "execute_result"
    }
   ],
   "source": [
    "#Generate a WienerProcess\n",
    "tp = WienerProcess(N,T)"
   ]
  },
  {
   "cell_type": "code",
   "execution_count": 8,
   "id": "0cd08b4f-00ce-4276-a913-f5b4ab459b27",
   "metadata": {},
   "outputs": [
    {
     "data": {
      "text/plain": [
       "unit (generic function with 1 method)"
      ]
     },
     "execution_count": 8,
     "metadata": {},
     "output_type": "execute_result"
    }
   ],
   "source": [
    "#test functions\n",
    "slf(x) = x\n",
    "unit(x) = 1"
   ]
  },
  {
   "cell_type": "markdown",
   "id": "7d0fe79c-1774-4fae-84fd-ba875a9c236f",
   "metadata": {},
   "source": [
    "Integrate $f(W_t) = 1$"
   ]
  },
  {
   "cell_type": "code",
   "execution_count": 9,
   "id": "612b4411-a980-4c54-9e5e-836babb5f14d",
   "metadata": {},
   "outputs": [
    {
     "data": {
      "text/plain": [
       "(-21.99102602124512, -21.99102602124512)"
      ]
     },
     "execution_count": 9,
     "metadata": {},
     "output_type": "execute_result"
    }
   ],
   "source": [
    "integrate(unit,tp),tp.path[length(tp.path)]"
   ]
  },
  {
   "cell_type": "code",
   "execution_count": 10,
   "id": "2346d4bc-0376-434e-a599-6b65437f6af1",
   "metadata": {},
   "outputs": [
    {
     "data": {
      "text/plain": [
       "(-21.99102602124512, -21.99102602124512)"
      ]
     },
     "execution_count": 10,
     "metadata": {},
     "output_type": "execute_result"
    }
   ],
   "source": [
    "rtp = refine(tp)\n",
    "integrate(unit,rtp),rtp.path[length(rtp.path)]"
   ]
  },
  {
   "cell_type": "markdown",
   "id": "8845d8f7-1ca6-4513-875f-aa201ac78d3b",
   "metadata": {},
   "source": [
    "# Answering the question given\n",
    "integrate $f(W_t) = W_t$, refining the partition as you go."
   ]
  },
  {
   "cell_type": "code",
   "execution_count": 14,
   "id": "5fee95de-6f62-42e2-b53c-79a043df10ed",
   "metadata": {},
   "outputs": [
    {
     "data": {
      "text/plain": [
       "time_refinements (generic function with 2 methods)"
      ]
     },
     "execution_count": 14,
     "metadata": {},
     "output_type": "execute_result"
    }
   ],
   "source": [
    "function time_refinements(tp, itt = 10)\n",
    "    iterated_test = tp\n",
    "    for iteration in 1:itt\n",
    "        iterated_test = refine(iterated_test)\n",
    "\n",
    "        integral = @time integrate(slf,iterated_test)\n",
    "\n",
    "        path_length = length(iterated_test.path)\n",
    "        las_value = iterated_test.path[path_length]\n",
    "        symbolic_integral = 0.5 * (las_value^2 - T )\n",
    "\n",
    "        println(\"iteration \",iteration, \". Number of discrete points \", path_length)\n",
    "        println(\"\\t\",integral, \" \" , symbolic_integral)\n",
    "        println(\"\\tAbsolute Error: \",abs(integral - symbolic_integral))\n",
    "        println(\"\\tSquared Error: \",(integral - symbolic_integral)^2)\n",
    "        println(\"\\tPercentage Error: \",(integral - symbolic_integral)/symbolic_integral, \"\\n\")\n",
    "    end\n",
    "end"
   ]
  },
  {
   "cell_type": "code",
   "execution_count": 17,
   "id": "bd71eefa-1709-4d85-89a9-dd17b687516d",
   "metadata": {},
   "outputs": [
    {
     "name": "stdout",
     "output_type": "stream",
     "text": [
      "  0.000418 seconds (6 allocations: 1.145 MiB)\n",
      "iteration 1. Number of discrete points 50001\n",
      "\t-5967.987889600968 241.30261273353997\n",
      "\tAbsolute Error: 6209.290502334507\n",
      "\tSquared Error: 3.855528854238152e7\n",
      "\tPercentage Error: -25.73237990253822\n",
      "\n",
      "  0.000953 seconds (6 allocations: 2.289 MiB)\n",
      "iteration 2. Number of discrete points 100001\n",
      "\t-2863.3424087299854 241.30261273353997\n",
      "\tAbsolute Error: 3104.6450214635256\n",
      "\tSquared Error: 9.638820709298255e6\n",
      "\tPercentage Error: -12.866188999336906\n",
      "\n",
      "  0.001841 seconds (6 allocations: 4.578 MiB)\n",
      "iteration 3. Number of discrete points 200001\n",
      "\t-1311.0221622743804 241.30261273353997\n",
      "\tAbsolute Error: 1552.3247750079204\n",
      "\tSquared Error: 2.4097122071033907e6\n",
      "\tPercentage Error: -6.433103883222704\n",
      "\n",
      "  0.003813 seconds (6 allocations: 9.156 MiB)\n",
      "iteration 4. Number of discrete points 400001\n",
      "\t-534.8595280068615 241.30261273353997\n",
      "\tAbsolute Error: 776.1621407404015\n",
      "\tSquared Error: 602427.6687187228\n",
      "\tPercentage Error: -3.216550918980242\n",
      "\n",
      "  0.007489 seconds (6 allocations: 18.311 MiB)\n",
      "iteration 5. Number of discrete points 800001\n",
      "\t-146.77881338116887 241.30261273353997\n",
      "\tAbsolute Error: 388.08142611470885\n",
      "\tSquared Error: 150607.19329522623\n",
      "\tPercentage Error: -1.6082769337572418\n",
      "\n",
      "  0.011904 seconds (6 allocations: 36.621 MiB)\n",
      "iteration 6. Number of discrete points 1600001\n",
      "\t47.26218466832724 241.30261273353997\n",
      "\tAbsolute Error: 194.04042806521272\n",
      "\tSquared Error: 37651.687723731\n",
      "\tPercentage Error: -0.8041372858216134\n",
      "\n",
      "  0.028823 seconds (6 allocations: 73.242 MiB, 8.14% gc time)\n",
      "iteration 7. Number of discrete points 3200001\n",
      "\t144.2821165119824 241.30261273353997\n",
      "\tAbsolute Error: 97.02049622155758\n",
      "\tSquared Error: 9412.97668707727\n",
      "\tPercentage Error: -0.4020698123509053\n",
      "\n",
      "  0.083434 seconds (6 allocations: 146.485 MiB, 27.19% gc time)\n",
      "iteration 8. Number of discrete points 6400001\n",
      "\t192.79258665995934 241.30261273353997\n",
      "\tAbsolute Error: 48.51002607358063\n",
      "\tSquared Error: 2353.2226296594727\n",
      "\tPercentage Error: -0.20103398601468173\n",
      "\n",
      "  0.149878 seconds (6 allocations: 292.969 MiB, 15.23% gc time)\n",
      "iteration 9. Number of discrete points 12800001\n",
      "\t217.0477502066884 241.30261273353997\n",
      "\tAbsolute Error: 24.254862526851582\n",
      "\tSquared Error: 588.2983561964691\n",
      "\tPercentage Error: -0.10051636926797464\n",
      "\n",
      "  0.263847 seconds (6 allocations: 585.938 MiB, 3.58% gc time)\n",
      "iteration 10. Number of discrete points 25600001\n",
      "\t229.17526567478973 241.30261273353997\n",
      "\tAbsolute Error: 12.127347058750246\n",
      "\tSquared Error: 147.07254668337825\n",
      "\tPercentage Error: -0.05025783567516507\n",
      "\n",
      "  4.992953 seconds (76.73 M allocations: 8.384 GiB, 21.62% gc time)\n"
     ]
    }
   ],
   "source": [
    "@time time_refinements(tp, 10)"
   ]
  },
  {
   "cell_type": "code",
   "execution_count": null,
   "id": "067c2c47-39de-4fd1-a97a-47599fd50dfe",
   "metadata": {},
   "outputs": [],
   "source": []
  }
 ],
 "metadata": {
  "kernelspec": {
   "display_name": "Julia 1.6.2",
   "language": "julia",
   "name": "julia-1.6"
  },
  "language_info": {
   "file_extension": ".jl",
   "mimetype": "application/julia",
   "name": "julia",
   "version": "1.6.2"
  }
 },
 "nbformat": 4,
 "nbformat_minor": 5
}
