{
 "cells": [
  {
   "cell_type": "code",
   "execution_count": 1,
   "id": "b957c3d7-09f0-431c-b81d-65f9734d0e7b",
   "metadata": {},
   "outputs": [],
   "source": [
    "include(\"StocasticDifferentialEquations.jl\")\n",
    "using .SDE"
   ]
  },
  {
   "cell_type": "code",
   "execution_count": 2,
   "id": "3d40de26-5727-4af7-82ab-286c13b98ddb",
   "metadata": {},
   "outputs": [
    {
     "data": {
      "text/plain": [
       "WienerPath([0.0, 12.0], 1.0)"
      ]
     },
     "execution_count": 2,
     "metadata": {},
     "output_type": "execute_result"
    }
   ],
   "source": [
    "w = WienerPath(12,1)"
   ]
  },
  {
   "cell_type": "code",
   "execution_count": 3,
   "id": "01600035-ae57-4b03-84ee-e2baa76db706",
   "metadata": {},
   "outputs": [
    {
     "data": {
      "text/plain": [
       "WienerPath([0.0, 6.0, 12.0], 0.5)"
      ]
     },
     "execution_count": 3,
     "metadata": {},
     "output_type": "execute_result"
    }
   ],
   "source": [
    "spread_path(w)"
   ]
  },
  {
   "cell_type": "code",
   "execution_count": 4,
   "id": "2855c259-67db-4c8d-84c4-393117be62ae",
   "metadata": {},
   "outputs": [
    {
     "data": {
      "text/plain": [
       "f (generic function with 1 method)"
      ]
     },
     "execution_count": 4,
     "metadata": {},
     "output_type": "execute_result"
    }
   ],
   "source": [
    "f(x,t) = x*t"
   ]
  },
  {
   "cell_type": "code",
   "execution_count": 5,
   "id": "60538c99-d985-4c67-9290-f63006c0a16a",
   "metadata": {},
   "outputs": [
    {
     "data": {
      "text/plain": [
       "0.0"
      ]
     },
     "execution_count": 5,
     "metadata": {},
     "output_type": "execute_result"
    }
   ],
   "source": [
    "integrate(f,w)"
   ]
  },
  {
   "cell_type": "code",
   "execution_count": 6,
   "id": "d4aed3b3-07d2-4a7f-aa45-bf233be70e1f",
   "metadata": {},
   "outputs": [
    {
     "data": {
      "text/plain": [
       "17.99196736987475"
      ]
     },
     "execution_count": 6,
     "metadata": {},
     "output_type": "execute_result"
    }
   ],
   "source": [
    "integrate(f,refine(w))"
   ]
  },
  {
   "cell_type": "code",
   "execution_count": 7,
   "id": "8fb52ccb-3900-482f-bac8-dfcb173ae195",
   "metadata": {},
   "outputs": [
    {
     "data": {
      "text/plain": [
       "g (generic function with 1 method)"
      ]
     },
     "execution_count": 7,
     "metadata": {},
     "output_type": "execute_result"
    }
   ],
   "source": [
    "g(x,t) = x"
   ]
  },
  {
   "cell_type": "code",
   "execution_count": 8,
   "id": "bdff7450-0c8b-409a-964f-866fcb661344",
   "metadata": {},
   "outputs": [
    {
     "data": {
      "text/plain": [
       "0.0"
      ]
     },
     "execution_count": 8,
     "metadata": {},
     "output_type": "execute_result"
    }
   ],
   "source": [
    "integrate(g,w)"
   ]
  },
  {
   "cell_type": "code",
   "execution_count": null,
   "id": "709f197d-42c3-4247-b158-2f0bab0fbb54",
   "metadata": {},
   "outputs": [],
   "source": []
  },
  {
   "cell_type": "code",
   "execution_count": 9,
   "id": "1448cce7-c16d-40d7-8308-449c4c6e7083",
   "metadata": {},
   "outputs": [],
   "source": [
    "struct EagerStochasticPath\n",
    "    wiener_path::SDE.WienerPath\n",
    "    stochastic_path::Vector{Float64}\n",
    "    fn::Array{Function}\n",
    "    \n",
    "    #add creation function that checks length\n",
    "    #add a generator that accepts either a wiener path\n",
    "end\n",
    "\n",
    "function get_steps(p::EagerStochasticPath)\n",
    "    len = length(p.stochastic_path)\n",
    "    steps = p.stochastic_path[2:len] - p.stochastic_path[1:len-1]\n",
    "    \n",
    "    return steps\n",
    "end\n",
    "\n",
    "function integrate(fn::Function,esp::EagerStochasticPath)\n",
    "    sum = 0.0\n",
    "    time_tracker = 0\n",
    "    \n",
    "    for i in 1:length[esp.stochastic_path]-1\n",
    "    try \n",
    "        #integration step\n",
    "        sum +=  fn(esp.stochastic_path[i], time_tracker) * steps[i]\n",
    "    catch err\n",
    "        #allow for error checking\n",
    "        throw(err)\n",
    "    end\n",
    "    time_tracker += esp.wiener_process.Δt\n",
    "end\n",
    "\n",
    "\n"
   ]
  },
  {
   "cell_type": "code",
   "execution_count": 14,
   "id": "80e97ec0-a1a1-4604-a89c-c41320c8609c",
   "metadata": {},
   "outputs": [
    {
     "data": {
      "text/plain": [
       "LazyStochasticPath(WienerPath([0.0, 12.0], 1.0), Function[var\"#7#9\"(), var\"#8#10\"()])"
      ]
     },
     "execution_count": 14,
     "metadata": {},
     "output_type": "execute_result"
    }
   ],
   "source": []
  },
  {
   "cell_type": "code",
   "execution_count": null,
   "id": "ab2a158c-9a5b-4668-9d70-830309c500c8",
   "metadata": {},
   "outputs": [],
   "source": []
  }
 ],
 "metadata": {
  "kernelspec": {
   "display_name": "Julia 1.6.2",
   "language": "julia",
   "name": "julia-1.6"
  },
  "language_info": {
   "file_extension": ".jl",
   "mimetype": "application/julia",
   "name": "julia",
   "version": "1.6.2"
  }
 },
 "nbformat": 4,
 "nbformat_minor": 5
}
