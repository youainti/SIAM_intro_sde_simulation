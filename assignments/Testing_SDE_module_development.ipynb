{
 "cells": [
  {
   "cell_type": "code",
   "execution_count": 1,
   "id": "b957c3d7-09f0-431c-b81d-65f9734d0e7b",
   "metadata": {},
   "outputs": [],
   "source": [
    "include(\"StocasticDifferentialEquations.jl\")\n",
    "using .SDE"
   ]
  },
  {
   "cell_type": "code",
   "execution_count": 2,
   "id": "3d40de26-5727-4af7-82ab-286c13b98ddb",
   "metadata": {},
   "outputs": [
    {
     "data": {
      "text/plain": [
       "WienerPath([0.0, 0.4519567625408727, 1.8358217132068488, 2.5928173717686014, 0.9212083041392711, 1.4692996826163283, 0.9354818573066311, 0.706585745414239, 2.477843235443866, 3.1971361114589327, 3.1410353683647942, 3.8305155323731843, 3.999792156023804], 0.08333333333333333)"
      ]
     },
     "execution_count": 2,
     "metadata": {},
     "output_type": "execute_result"
    }
   ],
   "source": [
    "w = WienerPath(12,1.0)"
   ]
  },
  {
   "cell_type": "code",
   "execution_count": 3,
   "id": "01600035-ae57-4b03-84ee-e2baa76db706",
   "metadata": {},
   "outputs": [
    {
     "data": {
      "text/plain": [
       "(WienerPath([0.0, 0.22597838127043635, 0.4519567625408727, 1.1438892378738608, 1.8358217132068488, 2.214319542487725, 2.5928173717686014, 1.7570128379539363, 0.9212083041392711, 1.1952539933777997  …  1.5922144904290527, 2.477843235443866, 2.8374896734513992, 3.1971361114589327, 3.1690857399118633, 3.1410353683647942, 3.4857754503689895, 3.8305155323731843, 3.9151538441984943, 3.999792156023804], 0.041666666666666664), WienerPath([0.0, 0.3681154313384982, 0.4519567625408727, 1.2334615171940018, 1.8358217132068488, 2.0655497079617082, 2.5928173717686014, 1.760836293922926, 0.9212083041392711, 1.0788055986136018  …  1.4877681249251786, 2.477843235443866, 2.7936643227567495, 3.1971361114589327, 3.1830619237695843, 3.1410353683647942, 3.66355174507202, 3.8305155323731843, 3.811002230619184, 3.999792156023804], 0.041666666666666664))"
      ]
     },
     "execution_count": 3,
     "metadata": {},
     "output_type": "execute_result"
    }
   ],
   "source": [
    "spread_path(w),refine_path(w)"
   ]
  },
  {
   "cell_type": "code",
   "execution_count": 4,
   "id": "2855c259-67db-4c8d-84c4-393117be62ae",
   "metadata": {},
   "outputs": [
    {
     "data": {
      "text/plain": [
       "f (generic function with 1 method)"
      ]
     },
     "execution_count": 4,
     "metadata": {},
     "output_type": "execute_result"
    }
   ],
   "source": [
    "f(x,t) = x*t"
   ]
  },
  {
   "cell_type": "code",
   "execution_count": 5,
   "id": "60538c99-d985-4c67-9290-f63006c0a16a",
   "metadata": {},
   "outputs": [
    {
     "data": {
      "text/plain": [
       "3.1174850147261055"
      ]
     },
     "execution_count": 5,
     "metadata": {},
     "output_type": "execute_result"
    }
   ],
   "source": [
    "integrate(f,w)"
   ]
  },
  {
   "cell_type": "code",
   "execution_count": 6,
   "id": "d4aed3b3-07d2-4a7f-aa45-bf233be70e1f",
   "metadata": {},
   "outputs": [
    {
     "data": {
      "text/plain": [
       "3.9741496157378897"
      ]
     },
     "execution_count": 6,
     "metadata": {},
     "output_type": "execute_result"
    }
   ],
   "source": [
    "integrate(f,refine_path(w))"
   ]
  },
  {
   "cell_type": "code",
   "execution_count": 7,
   "id": "8fb52ccb-3900-482f-bac8-dfcb173ae195",
   "metadata": {},
   "outputs": [
    {
     "data": {
      "text/plain": [
       "g (generic function with 1 method)"
      ]
     },
     "execution_count": 7,
     "metadata": {},
     "output_type": "execute_result"
    }
   ],
   "source": [
    "g(x,t) = x"
   ]
  },
  {
   "cell_type": "code",
   "execution_count": 8,
   "id": "bdff7450-0c8b-409a-964f-866fcb661344",
   "metadata": {},
   "outputs": [
    {
     "data": {
      "text/plain": [
       "2.855995854948672"
      ]
     },
     "execution_count": 8,
     "metadata": {},
     "output_type": "execute_result"
    }
   ],
   "source": [
    "integrate(g,w)"
   ]
  },
  {
   "cell_type": "code",
   "execution_count": 9,
   "id": "aeeb662f-a878-4644-a877-0d6339ec9325",
   "metadata": {},
   "outputs": [
    {
     "data": {
      "text/plain": [
       "G (generic function with 1 method)"
      ]
     },
     "execution_count": 9,
     "metadata": {},
     "output_type": "execute_result"
    }
   ],
   "source": [
    "function G(sp::StochasticPath)\n",
    "    return g(sp.path,0)\n",
    "end"
   ]
  },
  {
   "cell_type": "code",
   "execution_count": 10,
   "id": "709f197d-42c3-4247-b158-2f0bab0fbb54",
   "metadata": {},
   "outputs": [
    {
     "data": {
      "text/plain": [
       "StochasticPath(WienerPath([0.0, 0.4519567625408727, 1.8358217132068488, 2.5928173717686014, 0.9212083041392711, 1.4692996826163283, 0.9354818573066311, 0.706585745414239, 2.477843235443866, 3.1971361114589327, 3.1410353683647942, 3.8305155323731843, 3.999792156023804], 0.08333333333333333), Function[G], [0.0, 0.4519567625408727, 1.8358217132068488, 2.5928173717686014, 0.9212083041392711, 1.4692996826163283, 0.9354818573066311, 0.706585745414239, 2.477843235443866, 3.1971361114589327, 3.1410353683647942, 3.8305155323731843, 3.999792156023804])"
      ]
     },
     "execution_count": 10,
     "metadata": {},
     "output_type": "execute_result"
    }
   ],
   "source": [
    "sp1 = StochasticPath(w,[G],w.path)"
   ]
  },
  {
   "cell_type": "code",
   "execution_count": 11,
   "id": "74441c43-b7be-479d-8853-4c1bdfef3d9f",
   "metadata": {},
   "outputs": [
    {
     "data": {
      "text/plain": [
       "h (generic function with 1 method)"
      ]
     },
     "execution_count": 11,
     "metadata": {},
     "output_type": "execute_result"
    }
   ],
   "source": [
    "h(xt,Δwₜ,Δt,t) = xt*Δt + (xt*t)*Δwₜ"
   ]
  },
  {
   "cell_type": "code",
   "execution_count": 12,
   "id": "1448cce7-c16d-40d7-8308-449c4c6e7083",
   "metadata": {},
   "outputs": [
    {
     "data": {
      "text/plain": [
       "4.914126821778903"
      ]
     },
     "execution_count": 12,
     "metadata": {},
     "output_type": "execute_result"
    }
   ],
   "source": [
    "integrate(h, sp1)"
   ]
  },
  {
   "cell_type": "code",
   "execution_count": 13,
   "id": "ab2a158c-9a5b-4668-9d70-830309c500c8",
   "metadata": {},
   "outputs": [
    {
     "data": {
      "text/plain": [
       "StochasticPath(WienerPath([0.0, 0.4519567625408727, 1.8358217132068488, 2.5928173717686014, 0.9212083041392711, 1.4692996826163283, 0.9354818573066311, 0.706585745414239, 2.477843235443866, 3.1971361114589327, 3.1410353683647942, 3.8305155323731843, 3.999792156023804], 0.08333333333333333), Function[G, Main.SDE.var\"#1#2\"{typeof(h)}(h)], [0.0, 0.0897836571198043, 0.47438697768553895, -0.39308916533922145, -0.1480196969008805, -0.35238570722555174, -0.3814929657250132, 0.4074572678421707, 1.8021408622204234, 1.934047587789205, 4.000535185933199, 4.914126821778903])"
      ]
     },
     "execution_count": 13,
     "metadata": {},
     "output_type": "execute_result"
    }
   ],
   "source": [
    "a = cumulative_integrate(h, sp1)"
   ]
  },
  {
   "cell_type": "code",
   "execution_count": 14,
   "id": "ea75900e-52be-4564-a2be-e8203aaeb96c",
   "metadata": {},
   "outputs": [
    {
     "data": {
      "text/plain": [
       "2-element Array{Function,1}:\n",
       " G (generic function with 1 method)\n",
       " #1 (generic function with 1 method)"
      ]
     },
     "execution_count": 14,
     "metadata": {},
     "output_type": "execute_result"
    }
   ],
   "source": [
    "a.functions_list"
   ]
  },
  {
   "cell_type": "code",
   "execution_count": null,
   "id": "eb0252c4-e2c7-4a02-8062-5fea7e1340b9",
   "metadata": {},
   "outputs": [],
   "source": []
  }
 ],
 "metadata": {
  "kernelspec": {
   "display_name": "Julia 1.5.3",
   "language": "julia",
   "name": "julia-1.5"
  },
  "language_info": {
   "file_extension": ".jl",
   "mimetype": "application/julia",
   "name": "julia",
   "version": "1.5.3"
  }
 },
 "nbformat": 4,
 "nbformat_minor": 5
}
