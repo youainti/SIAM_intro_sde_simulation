{
 "cells": [
  {
   "cell_type": "code",
   "execution_count": null,
   "id": "d9e629fd-d941-45e7-94f4-d02a5860f79d",
   "metadata": {},
   "outputs": [],
   "source": [
    "using Plots, \n",
    "import Statistics"
   ]
  }
 ],
 "metadata": {
  "kernelspec": {
   "display_name": "Julia 1.6.2",
   "language": "julia",
   "name": "julia-1.6"
  },
  "language_info": {
   "file_extension": ".jl",
   "mimetype": "application/julia",
   "name": "julia",
   "version": "1.6.2"
  }
 },
 "nbformat": 4,
 "nbformat_minor": 5
}
